{
 "cells": [
  {
   "cell_type": "markdown",
   "metadata": {},
   "source": [
    "# <font face='comic sans ms' color ='PaleTurquoise'>Thursday 2022-11-10</font>"
   ]
  },
  {
   "cell_type": "code",
   "execution_count": null,
   "metadata": {},
   "outputs": [],
   "source": [
    "import math"
   ]
  },
  {
   "cell_type": "code",
   "execution_count": null,
   "metadata": {},
   "outputs": [],
   "source": [
    "math.sqrt(4)\n",
    "math.ceil(2.3)"
   ]
  },
  {
   "cell_type": "code",
   "execution_count": null,
   "metadata": {},
   "outputs": [],
   "source": [
    "round(math.sin(math.pi/2))"
   ]
  },
  {
   "cell_type": "code",
   "execution_count": null,
   "metadata": {},
   "outputs": [],
   "source": [
    "a=(1,2)\n",
    "a[1]=3"
   ]
  },
  {
   "cell_type": "code",
   "execution_count": null,
   "metadata": {},
   "outputs": [],
   "source": [
    "def f(a,b):\n",
    "    print(a,b)"
   ]
  },
  {
   "cell_type": "code",
   "execution_count": null,
   "metadata": {},
   "outputs": [],
   "source": [
    "f(*a)"
   ]
  },
  {
   "cell_type": "code",
   "execution_count": null,
   "metadata": {},
   "outputs": [],
   "source": [
    "def circle(centre,radius):\n",
    "    interval=math.pi/(radius+3)\n",
    "    theta=0\n",
    "    while theta<=math.pi:\n",
    "        x,y=(centre[0]+radius*round(math.cos(theta)),centre[1]+radius*round(math.sin(theta)))\n",
    "        print(x,y,1)\n",
    "        theta+=interval"
   ]
  },
  {
   "cell_type": "code",
   "execution_count": null,
   "metadata": {},
   "outputs": [],
   "source": [
    "circle((10,15),5)"
   ]
  },
  {
   "cell_type": "code",
   "execution_count": null,
   "metadata": {},
   "outputs": [],
   "source": [
    "for i in range(1,10, 1 if -1>0 else 2):\n",
    "    print(i)"
   ]
  },
  {
   "cell_type": "code",
   "execution_count": null,
   "metadata": {},
   "outputs": [],
   "source": [
    "from threading import *\n",
    "from time import sleep\n",
    "class hello(Thread):\n",
    "    def run(self):\n",
    "        for i in range(5):\n",
    "            print('hello')\n",
    "            sleep(0.5)\n",
    "            \n",
    "class hi(Thread):\n",
    "    def run(self):\n",
    "        for i in range(5):\n",
    "            print('hi')\n",
    "            sleep(0.5)\n",
    "t1=hello()\n",
    "t2=hi()\n",
    "t1.start()\n",
    "sleep(0.2)\n",
    "t2.start()\n",
    "t1.join()\n",
    "t2.join()\n",
    "print('bye')"
   ]
  },
  {
   "cell_type": "code",
   "execution_count": null,
   "metadata": {},
   "outputs": [],
   "source": [
    "import _thread\n",
    "import time\n",
    "\n",
    "def th_func(delay, id):\n",
    "    # for i in range(2):\n",
    "    time.sleep(delay)\n",
    "    print('Running thread %d' % id)\n",
    "\n",
    "for i in range(3):\n",
    "    _thread.start_new_thread(th_func, (i + 1, i))"
   ]
  },
  {
   "cell_type": "code",
   "execution_count": null,
   "metadata": {},
   "outputs": [],
   "source": [
    "import _thread\n",
    "import time\n",
    "\n",
    "def th_func(delay, id,msg):\n",
    "    time.sleep(delay)\n",
    "    print('Running thread %d' % id)\n",
    "    print(msg)\n",
    "\n",
    "_thread.start_new_thread(th_func, (10, i,\"world\"))\n",
    "_thread.start_new_thread(th_func, (5, i, \"hello\"))"
   ]
  },
  {
   "cell_type": "code",
   "execution_count": null,
   "metadata": {},
   "outputs": [],
   "source": [
    "from machine import Pin\n",
    "import utime, _thread\n",
    "\n",
    "def glow(timeperiod,led):\n",
    "    while True:\n",
    "        led.toggle()\n",
    "        utime.sleep(timeperiod)\n",
    "\n",
    "red=Pin(1,Pin.OUT)\n",
    "blu=Pin(2,Pin.OUT)\n",
    "\n",
    "_thread.start_new_thread(glow,(.3,red))\n",
    "#_thread.start_new_thread(glow,(250,blu))\n",
    "while True:\n",
    "    blu.toggle()\n",
    "    utime.sleep(.2)\n"
   ]
  },
  {
   "cell_type": "markdown",
   "metadata": {},
   "source": [
    "# <font face='comic sans ms' color ='PaleTurquoise'>Friday 2022-11-11</font>"
   ]
  },
  {
   "cell_type": "code",
   "execution_count": null,
   "metadata": {},
   "outputs": [],
   "source": [
    "import utime"
   ]
  },
  {
   "cell_type": "code",
   "execution_count": null,
   "metadata": {},
   "outputs": [],
   "source": [
    "a=(1,2)"
   ]
  },
  {
   "cell_type": "code",
   "execution_count": null,
   "metadata": {},
   "outputs": [],
   "source": [
    "a=(2,1)"
   ]
  },
  {
   "cell_type": "code",
   "execution_count": null,
   "metadata": {},
   "outputs": [],
   "source": [
    "[(i,31) for i in range(3)]+[(3,31)]"
   ]
  },
  {
   "cell_type": "code",
   "execution_count": null,
   "metadata": {},
   "outputs": [],
   "source": [
    "class Snake:\n",
    "    a=5\n",
    "    b=a+4\n",
    "    def print():\n",
    "        print(Snake.b)"
   ]
  },
  {
   "cell_type": "code",
   "execution_count": null,
   "metadata": {},
   "outputs": [],
   "source": [
    "Snake.print()"
   ]
  },
  {
   "cell_type": "code",
   "execution_count": null,
   "metadata": {},
   "outputs": [],
   "source": [
    "class Snake:\n",
    "\n",
    "    # obj=Draw()\n",
    "    # obj.clear()\n",
    "    head=(25,31)\n",
    "    body=[(i) for i in range(head[0]-20,head[0]+1)]\n",
    "    def __init__():\n",
    "        Snake.a=5\n",
    "    def start():\n",
    "        print(Snake.a)\n"
   ]
  },
  {
   "cell_type": "code",
   "execution_count": null,
   "metadata": {},
   "outputs": [],
   "source": [
    "Snake.start()"
   ]
  },
  {
   "cell_type": "code",
   "execution_count": null,
   "metadata": {},
   "outputs": [],
   "source": [
    "import random\n",
    "random.randrange(1,126),random.randrange(1,62)"
   ]
  },
  {
   "cell_type": "code",
   "execution_count": null,
   "metadata": {},
   "outputs": [],
   "source": [
    "while True:\n",
    "    food=random.randrange(1,126),random.randrange(1,62)\n",
    "    if not food in [(5, 31), (6, 31), (7, 31), (8, 31), (9, 31), (10, 31), (11, 31), (12, 31), (13, 31), (14, 31), (15, 31), (16, 31), (17, 31), (18, 31), (19, 31), (20, 31), (21, 31), (22, 31), (23, 31), (24, 31), (25, 31)]:\n",
    "        print(food)\n",
    "        break"
   ]
  },
  {
   "cell_type": "code",
   "execution_count": 2,
   "metadata": {},
   "outputs": [
    {
     "name": "stdout",
     "output_type": "stream",
     "text": [
      "2.4957797527313232\n"
     ]
    }
   ],
   "source": [
    "import time\n",
    "from stopwatch import StopWatch as sw\n",
    "sw.start()\n",
    "time.sleep(2.49)\n",
    "sw.stop()\n",
    "print(sw.duration())"
   ]
  },
  {
   "cell_type": "code",
   "execution_count": 40,
   "metadata": {},
   "outputs": [
    {
     "data": {
      "text/plain": [
       "0.20023488998413086"
      ]
     },
     "execution_count": 40,
     "metadata": {},
     "output_type": "execute_result"
    }
   ],
   "source": [
    "ans=time.time()\n",
    "time.sleep(.2)\n",
    "ans2=time.time()\n",
    "ans2-ans"
   ]
  },
  {
   "cell_type": "code",
   "execution_count": 10,
   "metadata": {},
   "outputs": [
    {
     "ename": "NameError",
     "evalue": "name 'header' is not defined",
     "output_type": "error",
     "traceback": [
      "\u001b[1;31m---------------------------------------------------------------------------\u001b[0m",
      "\u001b[1;31mNameError\u001b[0m                                 Traceback (most recent call last)",
      "\u001b[1;32md:\\Works_Space\\SOA_University\\Semester_7\\IoT\\OLED\\testing.ipynb Cell 29\u001b[0m in \u001b[0;36m<cell line: 1>\u001b[1;34m()\u001b[0m\n\u001b[1;32m----> <a href='vscode-notebook-cell:/d%3A/Works_Space/SOA_University/Semester_7/IoT/OLED/testing.ipynb#X32sZmlsZQ%3D%3D?line=0'>1</a>\u001b[0m header\n",
      "\u001b[1;31mNameError\u001b[0m: name 'header' is not defined"
     ]
    }
   ],
   "source": [
    "header"
   ]
  },
  {
   "cell_type": "code",
   "execution_count": 1,
   "metadata": {},
   "outputs": [
    {
     "name": "stdout",
     "output_type": "stream",
     "text": [
      "1668191744.438065\n",
      "1668191745.447917\n",
      "1668191746.4625866\n",
      "1668191747.4721174\n",
      "1668191748.4860394\n",
      "1668191749.4965193\n",
      "1668191750.5063732\n"
     ]
    },
    {
     "ename": "KeyboardInterrupt",
     "evalue": "",
     "output_type": "error",
     "traceback": [
      "\u001b[1;31m---------------------------------------------------------------------------\u001b[0m",
      "\u001b[1;31mKeyboardInterrupt\u001b[0m                         Traceback (most recent call last)",
      "\u001b[1;32md:\\Works_Space\\SOA_University\\Semester_7\\IoT\\OLED\\testing.ipynb Cell 29\u001b[0m in \u001b[0;36m<cell line: 5>\u001b[1;34m()\u001b[0m\n\u001b[0;32m      <a href='vscode-notebook-cell:/d%3A/Works_Space/SOA_University/Semester_7/IoT/OLED/testing.ipynb#X40sZmlsZQ%3D%3D?line=2'>3</a>\u001b[0m \u001b[39mwhile\u001b[39;00m \u001b[39mTrue\u001b[39;00m:\n\u001b[0;32m      <a href='vscode-notebook-cell:/d%3A/Works_Space/SOA_University/Semester_7/IoT/OLED/testing.ipynb#X40sZmlsZQ%3D%3D?line=4'>5</a>\u001b[0m     \u001b[39mprint\u001b[39m(time\u001b[39m.\u001b[39mtime())\n\u001b[1;32m----> <a href='vscode-notebook-cell:/d%3A/Works_Space/SOA_University/Semester_7/IoT/OLED/testing.ipynb#X40sZmlsZQ%3D%3D?line=5'>6</a>\u001b[0m     time\u001b[39m.\u001b[39;49msleep(\u001b[39m1\u001b[39;49m)\n",
      "\u001b[1;31mKeyboardInterrupt\u001b[0m: "
     ]
    }
   ],
   "source": [
    "import time\n",
    "\n",
    "while True:\n",
    "\n",
    "    print(time.time())\n",
    "    time.sleep(1)"
   ]
  },
  {
   "cell_type": "code",
   "execution_count": 5,
   "metadata": {},
   "outputs": [
    {
     "data": {
      "text/plain": [
       "52.898644818619985"
      ]
     },
     "execution_count": 5,
     "metadata": {},
     "output_type": "execute_result"
    }
   ],
   "source": [
    "1668211663/3600/24/365"
   ]
  },
  {
   "cell_type": "markdown",
   "metadata": {},
   "source": [
    "Unix time is the number of seconds that have elapsed since 00:00:00 UTC on 1 January 1970, \n",
    "excluding leap seconds. This time is named the Unix epoch, because it is the start of the Unix time. \n",
    "Unix time is not a true representation of UTC, because leap seconds are not independently represented."
   ]
  },
  {
   "cell_type": "code",
   "execution_count": 6,
   "metadata": {},
   "outputs": [
    {
     "data": {
      "text/plain": [
       "2022"
      ]
     },
     "execution_count": 6,
     "metadata": {},
     "output_type": "execute_result"
    }
   ],
   "source": [
    "1970+52"
   ]
  },
  {
   "cell_type": "markdown",
   "metadata": {},
   "source": [
    "# <font face='comic sans ms' color ='PaleTurquoise'>Saturday 2022-11-12</font>"
   ]
  },
  {
   "cell_type": "code",
   "execution_count": 3,
   "metadata": {},
   "outputs": [],
   "source": [
    "import math\n",
    "def pie(deg):\n",
    "    return deg*math.pi/180"
   ]
  },
  {
   "cell_type": "code",
   "execution_count": 23,
   "metadata": {},
   "outputs": [
    {
     "data": {
      "text/plain": [
       "6.123233995736766e-17"
      ]
     },
     "execution_count": 23,
     "metadata": {},
     "output_type": "execute_result"
    }
   ],
   "source": [
    "math.cos(pie(90))"
   ]
  },
  {
   "cell_type": "markdown",
   "metadata": {},
   "source": [
    "Arc = θ × radius"
   ]
  },
  {
   "cell_type": "markdown",
   "metadata": {},
   "source": [
    "The cosine of a right angle is 0, so the law of cosines, c2 = a2 + b2 – 2ab cos C, simplifies to becomes the Pythagorean identity, c2 = a2 + b2, for right triangles which we know is valid."
   ]
  },
  {
   "cell_type": "markdown",
   "metadata": {},
   "source": [
    "given: centre, point1, angle then find point2"
   ]
  },
  {
   "cell_type": "code",
   "execution_count": 24,
   "metadata": {},
   "outputs": [],
   "source": [
    "p1=(5,5)\n",
    "centre=(0,0)"
   ]
  },
  {
   "cell_type": "code",
   "execution_count": 16,
   "metadata": {},
   "outputs": [
    {
     "name": "stdout",
     "output_type": "stream",
     "text": [
      "1.0\n",
      "0.8660254037844387\n",
      "0.5000000000000001\n",
      "6.123233995736766e-17\n",
      "-0.4999999999999998\n"
     ]
    }
   ],
   "source": [
    "for i in range(5):\n",
    "    print((math.cos(pie(i*30))))"
   ]
  },
  {
   "cell_type": "code",
   "execution_count": 6,
   "metadata": {},
   "outputs": [],
   "source": [
    "from random import *\n",
    "from time import sleep\n",
    "import cv2\n",
    "from numpy import *\n",
    "from math import *\n",
    "h=0\n",
    "i=0\n",
    "while True:\n",
    "    img=zeros([480,640,3],uint8)\n",
    "    #img[:]=[randint(0,256),randint(0,256),randint(0,256)]\n",
    "    # img=design(img)\n",
    "    if (i)%60==0 and i!=0:\n",
    "        h+=1\n",
    "    img=cv2.arrowedLine(img,(320,240),(320+int(100*cos(radians(i*6-90))),240+int(100*sin(radians(i*6-90)))),(100,100,100),5)\n",
    "    cv2.imshow('display',img)\n",
    "    key=cv2.waitKey(1) & 0xFF\n",
    "    if key==27:\n",
    "        break\n",
    "    i+=1\n",
    "    sleep(.1)\n",
    "cv2.destroyAllWindows()"
   ]
  },
  {
   "cell_type": "code",
   "execution_count": null,
   "metadata": {},
   "outputs": [],
   "source": [
    "while True:\n",
    "    img=zeros([480,640,3],uint8)\n",
    "    img=cv2.arrowedLine(img,(320,240),(320+int(100*cos(radians(i*6-90))),240+int(100*sin(radians(i*6-90)))),(100,100,100),5)\n"
   ]
  },
  {
   "cell_type": "markdown",
   "metadata": {},
   "source": [
    "utime.gmtime() #(year, month, mday, hour, minute, second, weekday, yearday)"
   ]
  }
 ],
 "metadata": {
  "kernelspec": {
   "display_name": "Python 3.9.12 ('base')",
   "language": "python",
   "name": "python3"
  },
  "language_info": {
   "codemirror_mode": {
    "name": "ipython",
    "version": 3
   },
   "file_extension": ".py",
   "mimetype": "text/x-python",
   "name": "python",
   "nbconvert_exporter": "python",
   "pygments_lexer": "ipython3",
   "version": "3.9.12"
  },
  "orig_nbformat": 4,
  "vscode": {
   "interpreter": {
    "hash": "649e9a488baa9f755be1bd774174f13c00c6eb61d6f5988e2904ab6e22ac3fc0"
   }
  }
 },
 "nbformat": 4,
 "nbformat_minor": 2
}
