{
 "cells": [
  {
   "cell_type": "markdown",
   "metadata": {},
   "source": [
    "# <font face='comic sans ms' color ='PaleTurquoise'>Thursday 2022-11-10</font>"
   ]
  },
  {
   "cell_type": "code",
   "execution_count": null,
   "metadata": {},
   "outputs": [],
   "source": [
    "import math"
   ]
  },
  {
   "cell_type": "code",
   "execution_count": null,
   "metadata": {},
   "outputs": [],
   "source": [
    "math.sqrt(4)\n",
    "math.ceil(2.3)"
   ]
  },
  {
   "cell_type": "code",
   "execution_count": null,
   "metadata": {},
   "outputs": [],
   "source": [
    "round(math.sin(math.pi/2))"
   ]
  },
  {
   "cell_type": "code",
   "execution_count": null,
   "metadata": {},
   "outputs": [],
   "source": [
    "a=(1,2)\n",
    "a[1]=3"
   ]
  },
  {
   "cell_type": "code",
   "execution_count": null,
   "metadata": {},
   "outputs": [],
   "source": [
    "def f(a,b):\n",
    "    print(a,b)"
   ]
  },
  {
   "cell_type": "code",
   "execution_count": null,
   "metadata": {},
   "outputs": [],
   "source": [
    "f(*a)"
   ]
  },
  {
   "cell_type": "code",
   "execution_count": null,
   "metadata": {},
   "outputs": [],
   "source": [
    "def circle(centre,radius):\n",
    "    interval=math.pi/(radius+3)\n",
    "    theta=0\n",
    "    while theta<=math.pi:\n",
    "        x,y=(centre[0]+radius*round(math.cos(theta)),centre[1]+radius*round(math.sin(theta)))\n",
    "        print(x,y,1)\n",
    "        theta+=interval"
   ]
  },
  {
   "cell_type": "code",
   "execution_count": null,
   "metadata": {},
   "outputs": [],
   "source": [
    "circle((10,15),5)"
   ]
  },
  {
   "cell_type": "code",
   "execution_count": null,
   "metadata": {},
   "outputs": [],
   "source": [
    "for i in range(1,10, 1 if -1>0 else 2):\n",
    "    print(i)"
   ]
  },
  {
   "cell_type": "code",
   "execution_count": null,
   "metadata": {},
   "outputs": [],
   "source": [
    "from threading import *\n",
    "from time import sleep\n",
    "class hello(Thread):\n",
    "    def run(self):\n",
    "        for i in range(5):\n",
    "            print('hello')\n",
    "            sleep(0.5)\n",
    "            \n",
    "class hi(Thread):\n",
    "    def run(self):\n",
    "        for i in range(5):\n",
    "            print('hi')\n",
    "            sleep(0.5)\n",
    "t1=hello()\n",
    "t2=hi()\n",
    "t1.start()\n",
    "sleep(0.2)\n",
    "t2.start()\n",
    "t1.join()\n",
    "t2.join()\n",
    "print('bye')"
   ]
  },
  {
   "cell_type": "code",
   "execution_count": null,
   "metadata": {},
   "outputs": [],
   "source": [
    "import _thread\n",
    "import time\n",
    "\n",
    "def th_func(delay, id):\n",
    "    # for i in range(2):\n",
    "    time.sleep(delay)\n",
    "    print('Running thread %d' % id)\n",
    "\n",
    "for i in range(3):\n",
    "    _thread.start_new_thread(th_func, (i + 1, i))"
   ]
  },
  {
   "cell_type": "code",
   "execution_count": null,
   "metadata": {},
   "outputs": [],
   "source": [
    "import _thread\n",
    "import time\n",
    "\n",
    "def th_func(delay, id,msg):\n",
    "    time.sleep(delay)\n",
    "    print('Running thread %d' % id)\n",
    "    print(msg)\n",
    "\n",
    "_thread.start_new_thread(th_func, (10, i,\"world\"))\n",
    "_thread.start_new_thread(th_func, (5, i, \"hello\"))"
   ]
  },
  {
   "cell_type": "code",
   "execution_count": null,
   "metadata": {},
   "outputs": [],
   "source": [
    "from machine import Pin\n",
    "import utime, _thread\n",
    "\n",
    "def glow(timeperiod,led):\n",
    "    while True:\n",
    "        led.toggle()\n",
    "        utime.sleep(timeperiod)\n",
    "\n",
    "red=Pin(1,Pin.OUT)\n",
    "blu=Pin(2,Pin.OUT)\n",
    "\n",
    "_thread.start_new_thread(glow,(.3,red))\n",
    "#_thread.start_new_thread(glow,(250,blu))\n",
    "while True:\n",
    "    blu.toggle()\n",
    "    utime.sleep(.2)\n"
   ]
  },
  {
   "cell_type": "markdown",
   "metadata": {},
   "source": [
    "# <font face='comic sans ms' color ='PaleTurquoise'>Friday 2022-11-11</font>"
   ]
  },
  {
   "cell_type": "code",
   "execution_count": null,
   "metadata": {},
   "outputs": [],
   "source": [
    "import utime"
   ]
  },
  {
   "cell_type": "code",
   "execution_count": null,
   "metadata": {},
   "outputs": [],
   "source": [
    "a=(1,2)"
   ]
  },
  {
   "cell_type": "code",
   "execution_count": null,
   "metadata": {},
   "outputs": [],
   "source": [
    "a=(2,1)"
   ]
  },
  {
   "cell_type": "code",
   "execution_count": null,
   "metadata": {},
   "outputs": [],
   "source": [
    "[(i,31) for i in range(3)]+[(3,31)]"
   ]
  },
  {
   "cell_type": "code",
   "execution_count": null,
   "metadata": {},
   "outputs": [],
   "source": [
    "class Snake:\n",
    "    a=5\n",
    "    b=a+4\n",
    "    def print():\n",
    "        print(Snake.b)"
   ]
  },
  {
   "cell_type": "code",
   "execution_count": null,
   "metadata": {},
   "outputs": [],
   "source": [
    "Snake.print()"
   ]
  },
  {
   "cell_type": "code",
   "execution_count": null,
   "metadata": {},
   "outputs": [],
   "source": [
    "class Snake:\n",
    "\n",
    "    # obj=Draw()\n",
    "    # obj.clear()\n",
    "    head=(25,31)\n",
    "    body=[(i) for i in range(head[0]-20,head[0]+1)]\n",
    "    def __init__():\n",
    "        Snake.a=5\n",
    "    def start():\n",
    "        print(Snake.a)\n"
   ]
  },
  {
   "cell_type": "code",
   "execution_count": null,
   "metadata": {},
   "outputs": [],
   "source": [
    "Snake.start()"
   ]
  },
  {
   "cell_type": "code",
   "execution_count": null,
   "metadata": {},
   "outputs": [],
   "source": [
    "import random\n",
    "random.randrange(1,126),random.randrange(1,62)"
   ]
  },
  {
   "cell_type": "code",
   "execution_count": null,
   "metadata": {},
   "outputs": [],
   "source": [
    "while True:\n",
    "    food=random.randrange(1,126),random.randrange(1,62)\n",
    "    if not food in [(5, 31), (6, 31), (7, 31), (8, 31), (9, 31), (10, 31), (11, 31), (12, 31), (13, 31), (14, 31), (15, 31), (16, 31), (17, 31), (18, 31), (19, 31), (20, 31), (21, 31), (22, 31), (23, 31), (24, 31), (25, 31)]:\n",
    "        print(food)\n",
    "        break"
   ]
  },
  {
   "cell_type": "code",
   "execution_count": 2,
   "metadata": {},
   "outputs": [
    {
     "name": "stdout",
     "output_type": "stream",
     "text": [
      "2.4957797527313232\n"
     ]
    }
   ],
   "source": [
    "import time\n",
    "from stopwatch import StopWatch as sw\n",
    "sw.start()\n",
    "time.sleep(2.49)\n",
    "sw.stop()\n",
    "print(sw.duration())"
   ]
  },
  {
   "cell_type": "code",
   "execution_count": 40,
   "metadata": {},
   "outputs": [
    {
     "data": {
      "text/plain": [
       "0.20023488998413086"
      ]
     },
     "execution_count": 40,
     "metadata": {},
     "output_type": "execute_result"
    }
   ],
   "source": [
    "ans=time.time()\n",
    "time.sleep(.2)\n",
    "ans2=time.time()\n",
    "ans2-ans"
   ]
  },
  {
   "cell_type": "code",
   "execution_count": 10,
   "metadata": {},
   "outputs": [
    {
     "ename": "NameError",
     "evalue": "name 'header' is not defined",
     "output_type": "error",
     "traceback": [
      "\u001b[1;31m---------------------------------------------------------------------------\u001b[0m",
      "\u001b[1;31mNameError\u001b[0m                                 Traceback (most recent call last)",
      "\u001b[1;32md:\\Works_Space\\SOA_University\\Semester_7\\IoT\\OLED\\testing.ipynb Cell 29\u001b[0m in \u001b[0;36m<cell line: 1>\u001b[1;34m()\u001b[0m\n\u001b[1;32m----> <a href='vscode-notebook-cell:/d%3A/Works_Space/SOA_University/Semester_7/IoT/OLED/testing.ipynb#X32sZmlsZQ%3D%3D?line=0'>1</a>\u001b[0m header\n",
      "\u001b[1;31mNameError\u001b[0m: name 'header' is not defined"
     ]
    }
   ],
   "source": [
    "header"
   ]
  },
  {
   "cell_type": "code",
   "execution_count": 1,
   "metadata": {},
   "outputs": [
    {
     "name": "stdout",
     "output_type": "stream",
     "text": [
      "1668191744.438065\n",
      "1668191745.447917\n",
      "1668191746.4625866\n",
      "1668191747.4721174\n",
      "1668191748.4860394\n",
      "1668191749.4965193\n",
      "1668191750.5063732\n"
     ]
    },
    {
     "ename": "KeyboardInterrupt",
     "evalue": "",
     "output_type": "error",
     "traceback": [
      "\u001b[1;31m---------------------------------------------------------------------------\u001b[0m",
      "\u001b[1;31mKeyboardInterrupt\u001b[0m                         Traceback (most recent call last)",
      "\u001b[1;32md:\\Works_Space\\SOA_University\\Semester_7\\IoT\\OLED\\testing.ipynb Cell 29\u001b[0m in \u001b[0;36m<cell line: 5>\u001b[1;34m()\u001b[0m\n\u001b[0;32m      <a href='vscode-notebook-cell:/d%3A/Works_Space/SOA_University/Semester_7/IoT/OLED/testing.ipynb#X40sZmlsZQ%3D%3D?line=2'>3</a>\u001b[0m \u001b[39mwhile\u001b[39;00m \u001b[39mTrue\u001b[39;00m:\n\u001b[0;32m      <a href='vscode-notebook-cell:/d%3A/Works_Space/SOA_University/Semester_7/IoT/OLED/testing.ipynb#X40sZmlsZQ%3D%3D?line=4'>5</a>\u001b[0m     \u001b[39mprint\u001b[39m(time\u001b[39m.\u001b[39mtime())\n\u001b[1;32m----> <a href='vscode-notebook-cell:/d%3A/Works_Space/SOA_University/Semester_7/IoT/OLED/testing.ipynb#X40sZmlsZQ%3D%3D?line=5'>6</a>\u001b[0m     time\u001b[39m.\u001b[39;49msleep(\u001b[39m1\u001b[39;49m)\n",
      "\u001b[1;31mKeyboardInterrupt\u001b[0m: "
     ]
    }
   ],
   "source": [
    "import time\n",
    "\n",
    "while True:\n",
    "\n",
    "    print(time.time())\n",
    "    time.sleep(1)"
   ]
  },
  {
   "cell_type": "code",
   "execution_count": 5,
   "metadata": {},
   "outputs": [
    {
     "data": {
      "text/plain": [
       "52.898644818619985"
      ]
     },
     "execution_count": 5,
     "metadata": {},
     "output_type": "execute_result"
    }
   ],
   "source": [
    "1668211663/3600/24/365"
   ]
  },
  {
   "cell_type": "markdown",
   "metadata": {},
   "source": [
    "Unix time is the number of seconds that have elapsed since 00:00:00 UTC on 1 January 1970, \n",
    "excluding leap seconds. This time is named the Unix epoch, because it is the start of the Unix time. \n",
    "Unix time is not a true representation of UTC, because leap seconds are not independently represented."
   ]
  },
  {
   "cell_type": "code",
   "execution_count": 6,
   "metadata": {},
   "outputs": [
    {
     "data": {
      "text/plain": [
       "2022"
      ]
     },
     "execution_count": 6,
     "metadata": {},
     "output_type": "execute_result"
    }
   ],
   "source": [
    "1970+52"
   ]
  },
  {
   "cell_type": "markdown",
   "metadata": {},
   "source": [
    "# <font face='comic sans ms' color ='PaleTurquoise'>Saturday 2022-11-12</font>"
   ]
  },
  {
   "cell_type": "code",
   "execution_count": 3,
   "metadata": {},
   "outputs": [],
   "source": [
    "import math\n",
    "def pie(deg):\n",
    "    return deg*math.pi/180"
   ]
  },
  {
   "cell_type": "code",
   "execution_count": 23,
   "metadata": {},
   "outputs": [
    {
     "data": {
      "text/plain": [
       "6.123233995736766e-17"
      ]
     },
     "execution_count": 23,
     "metadata": {},
     "output_type": "execute_result"
    }
   ],
   "source": [
    "math.cos(pie(90))"
   ]
  },
  {
   "cell_type": "markdown",
   "metadata": {},
   "source": [
    "Arc = θ × radius"
   ]
  },
  {
   "cell_type": "markdown",
   "metadata": {},
   "source": [
    "The cosine of a right angle is 0, so the law of cosines, c2 = a2 + b2 – 2ab cos C, simplifies to becomes the Pythagorean identity, c2 = a2 + b2, for right triangles which we know is valid."
   ]
  },
  {
   "cell_type": "markdown",
   "metadata": {},
   "source": [
    "given: centre, point1, angle then find point2"
   ]
  },
  {
   "cell_type": "code",
   "execution_count": 24,
   "metadata": {},
   "outputs": [],
   "source": [
    "p1=(5,5)\n",
    "centre=(0,0)"
   ]
  },
  {
   "cell_type": "code",
   "execution_count": 16,
   "metadata": {},
   "outputs": [
    {
     "name": "stdout",
     "output_type": "stream",
     "text": [
      "1.0\n",
      "0.8660254037844387\n",
      "0.5000000000000001\n",
      "6.123233995736766e-17\n",
      "-0.4999999999999998\n"
     ]
    }
   ],
   "source": [
    "for i in range(5):\n",
    "    print((math.cos(pie(i*30))))"
   ]
  },
  {
   "cell_type": "code",
   "execution_count": 6,
   "metadata": {},
   "outputs": [],
   "source": [
    "from random import *\n",
    "from time import sleep\n",
    "import cv2\n",
    "from numpy import *\n",
    "from math import *\n",
    "h=0\n",
    "i=0\n",
    "while True:\n",
    "    img=zeros([480,640,3],uint8)\n",
    "    #img[:]=[randint(0,256),randint(0,256),randint(0,256)]\n",
    "    # img=design(img)\n",
    "    if (i)%60==0 and i!=0:\n",
    "        h+=1\n",
    "    img=cv2.arrowedLine(img,(320,240),(320+int(100*cos(radians(i*6-90))),240+int(100*sin(radians(i*6-90)))),(100,100,100),5)\n",
    "    cv2.imshow('display',img)\n",
    "    key=cv2.waitKey(1) & 0xFF\n",
    "    if key==27:\n",
    "        break\n",
    "    i+=1\n",
    "    sleep(.1)\n",
    "cv2.destroyAllWindows()"
   ]
  },
  {
   "cell_type": "code",
   "execution_count": null,
   "metadata": {},
   "outputs": [],
   "source": [
    "while True:\n",
    "    img=zeros([480,640,3],uint8)\n",
    "    img=cv2.arrowedLine(img,(320,240),(320+int(100*cos(radians(i*6-90))),240+int(100*sin(radians(i*6-90)))),(100,100,100),5)\n"
   ]
  },
  {
   "cell_type": "markdown",
   "metadata": {},
   "source": [
    "utime.gmtime() #(year, month, mday, hour, minute, second, weekday, yearday)"
   ]
  },
  {
   "cell_type": "markdown",
   "metadata": {},
   "source": [
    "# <font face='comic sans ms' color ='PaleTurquoise'>Tuesday 2022-11-15</font>"
   ]
  },
  {
   "cell_type": "code",
   "execution_count": 3,
   "metadata": {},
   "outputs": [],
   "source": [
    "p=(1,2)"
   ]
  },
  {
   "cell_type": "code",
   "execution_count": 4,
   "metadata": {},
   "outputs": [],
   "source": [
    "p=(p[0]+1,p[1]+1)"
   ]
  },
  {
   "cell_type": "code",
   "execution_count": 18,
   "metadata": {},
   "outputs": [],
   "source": [
    "def move(points):\n",
    "    for i in range(len(points)):\n",
    "        point=points[i]\n",
    "        points[i]=(point[0],point[1]-1)"
   ]
  },
  {
   "cell_type": "code",
   "execution_count": 19,
   "metadata": {},
   "outputs": [],
   "source": [
    "l=[(1,2),(1,3)]\n",
    "move(l)"
   ]
  },
  {
   "cell_type": "code",
   "execution_count": 20,
   "metadata": {},
   "outputs": [],
   "source": [
    "p=(1,2)"
   ]
  },
  {
   "cell_type": "code",
   "execution_count": 21,
   "metadata": {},
   "outputs": [
    {
     "data": {
      "text/plain": [
       "True"
      ]
     },
     "execution_count": 21,
     "metadata": {},
     "output_type": "execute_result"
    }
   ],
   "source": [
    "p[0]<3"
   ]
  },
  {
   "cell_type": "code",
   "execution_count": 22,
   "metadata": {},
   "outputs": [],
   "source": [
    "l.remove(p)"
   ]
  },
  {
   "cell_type": "code",
   "execution_count": 41,
   "metadata": {},
   "outputs": [],
   "source": [
    "points=[]\n",
    "for i in range(5,17):\n",
    "    for j in range(16):\n",
    "        points.append((i,j))"
   ]
  },
  {
   "cell_type": "code",
   "execution_count": 47,
   "metadata": {},
   "outputs": [],
   "source": [
    "dinoPoints=[(9, 0), (10, 0), (11, 0), (12, 0), (13, 0), (14, 0), (8, 1), (9, 1), (11, 1), (12, 1), (13, 1), (14, 1), (15, 1), (8, 2), (9, 2), (10, 2), (11, 2), (12, 2), (13, 2), (14, 2), (15, 2), (8, 3), (9, 3), (10, 3), (11, 3), (12, 3), (13, 3), (14, 3), (15, 3), (8, 4), (9, 4), (10, 4), (11, 4),(0, 5), (8, 5), (9, 5), (10, 5), (11, 5), (12, 5), (13, 5), (14, 5), (0, 6), (7, 6), (8, 6), (9, 6), (10, 6), (0, 7), (1, 7), (6, 7), (7, 7), (8, 7), (9, 7), (10, 7), (0, 8), (1, 8), (2, 8), (5, 8), (6, 8), (7, 8), (8, 8), (9, 8), (10, 8), (11, 8), (12, 8), (0, 9), (1, 9), (2, 9), (3, 9), (4, 9), (5, 9), (6, 9), (7, 9), (8, 9), (9, 9), (10, 9), (12, 9), (1, 10), (2, 10), (3, 10), (4, 10), (5, 10), (6, 10), (7, 10), (8, 10), (9, 10), (10, 10), (2, 11), (3, 11), (4, 11), (5, 11), (6, 11), (7, 11), (8, 11), (9, 11), (3, 12), (4, 12), (5, 12), (6, 12), (7, 12), (8, 12), (4, 13), (5, 13), (6, 13), (7, 13), (8, 13), (4, 14), (5, 14), (7, 14), (8, 14), (4, 15), (8, 15), (4, 16), (5, 16), (8, 16), (9, 16)]"
   ]
  },
  {
   "cell_type": "code",
   "execution_count": 50,
   "metadata": {},
   "outputs": [
    {
     "name": "stdout",
     "output_type": "stream",
     "text": [
      "[(9, 0), (10, 0), (11, 0), (12, 0), (13, 0), (14, 0), (8, 1), (9, 1), (11, 1), (12, 1), (13, 1), (14, 1), (15, 1), (8, 2), (9, 2), (10, 2), (11, 2), (12, 2), (13, 2), (14, 2), (15, 2), (8, 3), (9, 3), (10, 3), (11, 3), (12, 3), (13, 3), (14, 3), (15, 3), (8, 4), (9, 4), (10, 4), (11, 4), (0, 5), (8, 5), (9, 5), (10, 5), (11, 5), (12, 5), (13, 5), (14, 5), (0, 6), (7, 6), (8, 6), (9, 6), (10, 6), (0, 7), (1, 7), (6, 7), (7, 7), (8, 7), (9, 7), (10, 7), (0, 8), (1, 8), (2, 8), (5, 8), (6, 8), (7, 8), (8, 8), (9, 8), (10, 8), (11, 8), (12, 8), (0, 9), (1, 9), (2, 9), (3, 9), (4, 9), (5, 9), (6, 9), (7, 9), (8, 9), (9, 9), (10, 9), (12, 9), (1, 10), (2, 10), (3, 10), (4, 10), (5, 10), (6, 10), (7, 10), (8, 10), (9, 10), (10, 10), (2, 11), (3, 11), (4, 11), (5, 11), (6, 11), (7, 11), (8, 11), (9, 11), (3, 12), (4, 12), (5, 12), (6, 12), (7, 12), (8, 12), (4, 13), (5, 13), (6, 13), (7, 13), (8, 13), (4, 14), (5, 14), (7, 14), (8, 14), (4, 15), (8, 15), (4, 16), (5, 16), (8, 16), (9, 16)]\n"
     ]
    }
   ],
   "source": [
    "print(dinoPoints)"
   ]
  },
  {
   "cell_type": "code",
   "execution_count": 56,
   "metadata": {},
   "outputs": [],
   "source": [
    "di=[]\n",
    "for p in dinoPoints:\n",
    "    di.append((p[0]+5,p[1]+45))"
   ]
  },
  {
   "cell_type": "code",
   "execution_count": 57,
   "metadata": {},
   "outputs": [
    {
     "name": "stdout",
     "output_type": "stream",
     "text": [
      "[(14, 45), (15, 45), (16, 45), (17, 45), (18, 45), (19, 45), (13, 46), (14, 46), (16, 46), (17, 46), (18, 46), (19, 46), (20, 46), (13, 47), (14, 47), (15, 47), (16, 47), (17, 47), (18, 47), (19, 47), (20, 47), (13, 48), (14, 48), (15, 48), (16, 48), (17, 48), (18, 48), (19, 48), (20, 48), (13, 49), (14, 49), (15, 49), (16, 49), (5, 50), (13, 50), (14, 50), (15, 50), (16, 50), (17, 50), (18, 50), (19, 50), (5, 51), (12, 51), (13, 51), (14, 51), (15, 51), (5, 52), (6, 52), (11, 52), (12, 52), (13, 52), (14, 52), (15, 52), (5, 53), (6, 53), (7, 53), (10, 53), (11, 53), (12, 53), (13, 53), (14, 53), (15, 53), (16, 53), (17, 53), (5, 54), (6, 54), (7, 54), (8, 54), (9, 54), (10, 54), (11, 54), (12, 54), (13, 54), (14, 54), (15, 54), (17, 54), (6, 55), (7, 55), (8, 55), (9, 55), (10, 55), (11, 55), (12, 55), (13, 55), (14, 55), (15, 55), (7, 56), (8, 56), (9, 56), (10, 56), (11, 56), (12, 56), (13, 56), (14, 56), (8, 57), (9, 57), (10, 57), (11, 57), (12, 57), (13, 57), (9, 58), (10, 58), (11, 58), (12, 58), (13, 58), (9, 59), (10, 59), (12, 59), (13, 59), (9, 60), (13, 60), (9, 61), (10, 61), (13, 61), (14, 61)]\n"
     ]
    }
   ],
   "source": [
    "print(di)"
   ]
  },
  {
   "cell_type": "markdown",
   "metadata": {},
   "source": [
    "# <font face='comic sans ms' color ='PaleTurquoise'>Wednesday 2022-11-16</font>"
   ]
  },
  {
   "cell_type": "code",
   "execution_count": 71,
   "metadata": {},
   "outputs": [],
   "source": [
    "cat=[]\n",
    "for i in range(10,12):\n",
    "    for j in range(6,8):\n",
    "        cat.append((i,j))"
   ]
  },
  {
   "cell_type": "code",
   "execution_count": 72,
   "metadata": {},
   "outputs": [
    {
     "name": "stdout",
     "output_type": "stream",
     "text": [
      "[(10, 6), (10, 7), (11, 6), (11, 7)]\n"
     ]
    }
   ],
   "source": [
    "print(cat)"
   ]
  },
  {
   "cell_type": "code",
   "execution_count": 76,
   "metadata": {},
   "outputs": [
    {
     "data": {
      "text/plain": [
       "126"
      ]
     },
     "execution_count": 76,
     "metadata": {},
     "output_type": "execute_result"
    }
   ],
   "source": [
    "len([(7, 0), (7, 1), (7, 2), (7, 3), (7, 4), (7, 5), (7, 6), (7, 7), (7, 8), (7, 9), (7, 10), (7, 11), (7, 12), (7, 13), (7, 14), (7, 15), (8, 0), (8, 1), (8, 2), (8, 3), (8, 4), (8, 5), (8, 6), (8, 7), (8, 8), (8, 9), (8, 10), (8, 11), (8, 12), (8, 13), (8, 14), (8, 15), (9, 0), (9, 1), (9, 2), (9, 3), (9, 4), (9, 5), (9, 6), (9, 7), (9, 8), (9, 9), (9, 10), (9, 11), (9, 12), (9, 13), (9, 14), (9, 15),(0, 4), (0, 5), (0, 6), (0, 7), (0, 8), (0, 9), (1, 4), (1, 5), (1, 6), (1, 7), (1, 8), (1, 9), (2, 4), (2, 5), (2, 6), (2, 7), (2, 8), (2, 9),(3, 8), (3, 9), (4, 8), (4, 9), (5, 8), (5, 9), (6, 8), (6, 9),(0, 2), (0, 3), (0, 4), (0, 5), (0, 6), (0, 7), (0, 8), (0, 9), (1, 2), (1, 3), (1, 4), (1, 5), (1, 6), (1, 7), (1, 8), (1, 9), (2, 2), (2, 3), (2, 4), (2, 5), (2, 6), (2, 7), (2, 8), (2, 9),(12, 0), (12, 1), (12, 2), (12, 3), (12, 4), (12, 5), (12, 6), (12, 7), (13, 0), (13, 1), (13, 2), (13, 3), (13, 4), (13, 5), (13, 6), (13, 7), (14, 0), (14, 1), (14, 2), (14, 3), (14, 4), (14, 5), (14, 6), (14, 7),(10, 6), (10, 7), (11, 6), (11, 7)])"
   ]
  },
  {
   "cell_type": "markdown",
   "metadata": {},
   "source": [
    "[(7, 0), (7, 1), (7, 2), (7, 3), (7, 4), (7, 5), (7, 6), (7, 7), (7, 8), (7, 9), (7, 10), (7, 11), (7, 12), (7, 13), (7, 14), (7, 15), (8, 0), (8, 1), (8, 2), (8, 3), (8, 4), (8, 5), (8, 6), (8, 7), (8, 8), (8, 9), (8, 10), (8, 11), (8, 12), (8, 13), (8, 14), (8, 15), (9, 0), (9, 1), (9, 2), (9, 3), (9, 4), (9, 5), (9, 6), (9, 7), (9, 8), (9, 9), (9, 10), (9, 11), (9, 12), (9, 13), (9, 14), (9, 15),(0, 4), (0, 5), (0, 6), (0, 7), (0, 8), (0, 9), (1, 4), (1, 5), (1, 6), (1, 7), (1, 8), (1, 9), (2, 4), (2, 5), (2, 6), (2, 7), (2, 8), (2, 9),(3, 8), (3, 9), (4, 8), (4, 9), (5, 8), (5, 9), (6, 8), (6, 9),(0, 2), (0, 3), (0, 4), (0, 5), (0, 6), (0, 7), (0, 8), (0, 9), (1, 2), (1, 3), (1, 4), (1, 5), (1, 6), (1, 7), (1, 8), (1, 9), (2, 2), (2, 3), (2, 4), (2, 5), (2, 6), (2, 7), (2, 8), (2, 9),(12, 0), (12, 1), (12, 2), (12, 3), (12, 4), (12, 5), (12, 6), (12, 7), (13, 0), (13, 1), (13, 2), (13, 3), (13, 4), (13, 5), (13, 6), (13, 7), (14, 0), (14, 1), (14, 2), (14, 3), (14, 4), (14, 5), (14, 6), (14, 7),(10, 6), (10, 7), (11, 6), (11, 7)]"
   ]
  },
  {
   "cell_type": "code",
   "execution_count": 73,
   "metadata": {},
   "outputs": [],
   "source": [
    "catcusPoints=set([(7, 0), (7, 1), (7, 2), (7, 3), (7, 4), (7, 5), (7, 6), (7, 7), (7, 8), (7, 9), (7, 10), (7, 11), (7, 12), (7, 13), (7, 14), (7, 15), (8, 0), (8, 1), (8, 2), (8, 3), (8, 4), (8, 5), (8, 6), (8, 7), (8, 8), (8, 9), (8, 10), (8, 11), (8, 12), (8, 13), (8, 14), (8, 15), (9, 0), (9, 1), (9, 2), (9, 3), (9, 4), (9, 5), (9, 6), (9, 7), (9, 8), (9, 9), (9, 10), (9, 11), (9, 12), (9, 13), (9, 14), (9, 15),(0, 4), (0, 5), (0, 6), (0, 7), (0, 8), (0, 9), (1, 4), (1, 5), (1, 6), (1, 7), (1, 8), (1, 9), (2, 4), (2, 5), (2, 6), (2, 7), (2, 8), (2, 9),(3, 8), (3, 9), (4, 8), (4, 9), (5, 8), (5, 9), (6, 8), (6, 9),(0, 2), (0, 3), (0, 4), (0, 5), (0, 6), (0, 7), (0, 8), (0, 9), (1, 2), (1, 3), (1, 4), (1, 5), (1, 6), (1, 7), (1, 8), (1, 9), (2, 2), (2, 3), (2, 4), (2, 5), (2, 6), (2, 7), (2, 8), (2, 9),(12, 0), (12, 1), (12, 2), (12, 3), (12, 4), (12, 5), (12, 6), (12, 7), (13, 0), (13, 1), (13, 2), (13, 3), (13, 4), (13, 5), (13, 6), (13, 7), (14, 0), (14, 1), (14, 2), (14, 3), (14, 4), (14, 5), (14, 6), (14, 7),(10, 6), (10, 7), (11, 6), (11, 7)])"
   ]
  },
  {
   "cell_type": "code",
   "execution_count": 75,
   "metadata": {},
   "outputs": [
    {
     "name": "stdout",
     "output_type": "stream",
     "text": [
      "[(12, 4), (4, 9), (8, 0), (8, 9), (10, 6), (9, 8), (0, 5), (2, 2), (7, 1), (7, 10), (8, 2), (9, 1), (8, 11), (9, 10), (0, 7), (2, 4), (11, 7), (13, 1), (1, 8), (7, 3), (7, 12), (3, 8), (8, 4), (9, 3), (9, 12), (0, 9), (13, 3), (7, 5), (7, 14), (14, 1), (9, 5), (0, 2), (9, 14), (1, 3), (13, 5), (7, 7), (12, 6), (14, 3), (5, 9), (9, 7), (1, 5), (13, 7), (7, 0), (7, 9), (14, 5), (9, 0), (9, 9), (13, 0), (8, 13), (1, 7), (2, 6), (7, 2), (7, 11), (12, 1), (14, 7), (9, 2), (8, 6), (13, 2), (8, 15), (1, 9), (2, 8), (7, 4), (6, 8), (12, 3), (14, 0), (3, 9), (4, 8), (8, 8), (1, 2), (0, 4), (13, 4), (12, 5), (14, 2), (8, 1), (8, 10), (10, 7), (1, 4), (0, 6), (2, 3), (11, 6), (12, 7), (14, 4), (8, 3), (8, 12), (9, 11), (0, 8), (1, 6), (2, 5), (12, 0), (7, 13), (14, 6), (8, 5), (9, 4), (8, 14), (9, 13), (2, 7), (7, 6), (12, 2), (7, 15), (5, 8), (8, 7), (9, 6), (0, 3), (9, 15), (2, 9), (13, 6), (6, 9), (7, 8)]\n"
     ]
    }
   ],
   "source": [
    "print(list(catcusPoints))"
   ]
  },
  {
   "cell_type": "code",
   "execution_count": 78,
   "metadata": {},
   "outputs": [],
   "source": [
    "catcusPoints=[(12, 4), (4, 9), (8, 0), (8, 9), (10, 6), (9, 8), (0, 5), (2, 2), (7, 1), (7, 10), (8, 2), (9, 1), (8, 11), (9, 10), (0, 7), (2, 4), (11, 7), (13, 1), (1, 8), (7, 3), (7, 12), (3, 8), (8, 4), (9, 3), (9, 12), (0, 9), (13, 3), (7, 5), (7, 14), (14, 1), (9, 5), (0, 2), (9, 14), (1, 3), (13, 5), (7, 7), (12, 6), (14, 3), (5, 9), (9, 7), (1, 5), (13, 7), (7, 0), (7, 9), (14, 5), (9, 0), (9, 9), (13, 0), (8, 13), (1, 7), (2, 6), (7, 2), (7, 11), (12, 1), (14, 7), (9, 2), (8, 6), (13, 2), (8, 15), (1, 9), (2, 8), (7, 4), (6, 8), (12, 3), (14, 0), (3, 9), (4, 8), (8, 8), (1, 2), (0, 4), (13, 4), (12, 5), (14, 2), (8, 1), (8, 10), (10, 7), (1, 4), (0, 6), (2, 3), (11, 6), (12, 7), (14, 4), (8, 3), (8, 12), (9, 11), (0, 8), (1, 6), (2, 5), (12, 0), (7, 13), (14, 6), (8, 5), (9, 4), (8, 14), (9, 13), (2, 7), (7, 6), (12, 2), (7, 15), (5, 8), (8, 7), (9, 6), (0, 3), (9, 15), (2, 9), (13, 6), (6, 9), (7, 8)]"
   ]
  },
  {
   "cell_type": "code",
   "execution_count": 124,
   "metadata": {},
   "outputs": [],
   "source": [
    "catcusPoints=[(0, 2), (0, 3), (0, 4), (0, 5), (0, 6), (0, 7),(2, 0), (2, 1), (2, 2), (2, 3), (2, 4), (2, 5), (2, 6), (2, 7), (2, 8), (2, 9), (2, 10), (2, 11), (2, 12), (2, 13), (2, 14),(4, 0), (4, 1), (4, 2), (4, 3), (4, 4), (4, 5),(1,7),(3,5)]"
   ]
  },
  {
   "cell_type": "code",
   "execution_count": 125,
   "metadata": {},
   "outputs": [],
   "source": [
    "points=[]\n",
    "for i in catcusPoints:\n",
    "    points.append((i[0]+127,i[1]+47))"
   ]
  },
  {
   "cell_type": "code",
   "execution_count": 126,
   "metadata": {},
   "outputs": [
    {
     "name": "stdout",
     "output_type": "stream",
     "text": [
      "[(127, 49), (127, 50), (127, 51), (127, 52), (127, 53), (127, 54), (129, 47), (129, 48), (129, 49), (129, 50), (129, 51), (129, 52), (129, 53), (129, 54), (129, 55), (129, 56), (129, 57), (129, 58), (129, 59), (129, 60), (129, 61), (131, 47), (131, 48), (131, 49), (131, 50), (131, 51), (131, 52), (128, 54), (130, 52)]\n"
     ]
    }
   ],
   "source": [
    "print(points)"
   ]
  },
  {
   "cell_type": "code",
   "execution_count": 122,
   "metadata": {},
   "outputs": [],
   "source": [
    "points=[]\n",
    "for i in range(6):\n",
    "    points.append((4,i))"
   ]
  },
  {
   "cell_type": "code",
   "execution_count": 123,
   "metadata": {},
   "outputs": [
    {
     "name": "stdout",
     "output_type": "stream",
     "text": [
      "[(4, 0), (4, 1), (4, 2), (4, 3), (4, 4), (4, 5)]\n"
     ]
    }
   ],
   "source": [
    "print(points)"
   ]
  },
  {
   "cell_type": "code",
   "execution_count": null,
   "metadata": {},
   "outputs": [],
   "source": []
  },
  {
   "cell_type": "markdown",
   "metadata": {},
   "source": [
    "[(0, 2), (0, 3), (0, 4), (0, 5), (0, 6), (0, 7),(2, 0), (2, 1), (2, 2), (2, 3), (2, 4), (2, 5), (2, 6), (2, 7), (2, 8), (2, 9), (2, 10), (2, 11), (2, 12), (2, 13), (2, 14),(4, 0), (4, 1), (4, 2), (4, 3), (4, 4), (4, 5),(1,7),(3,5)]"
   ]
  },
  {
   "cell_type": "code",
   "execution_count": 104,
   "metadata": {},
   "outputs": [
    {
     "data": {
      "text/plain": [
       "50"
      ]
     },
     "execution_count": 104,
     "metadata": {},
     "output_type": "execute_result"
    }
   ],
   "source": [
    "len([(5, 0), (5, 1), (5, 2), (5, 3), (5, 4), (5, 5), (5, 6), (5, 7), (6, 0), (6, 1), (6, 2), (6, 3), (6, 4), (6, 5), (6, 6), (6, 7),(9, 0), (9, 1), (9, 2), (9, 3), (9, 4), (10, 0), (10, 1), (10, 2), (10, 3), (10, 4),(6, 3), (6, 4), (7, 3), (7, 4), (8, 3), (8, 4),(1, 0), (1, 1), (1, 2), (1, 3), (1, 4), (1, 5), (1, 6), (2, 0), (2, 1), (2, 2), (2, 3), (2, 4), (2, 5), (2, 6),(3, 5), (3, 6), (4, 5), (4, 6)])"
   ]
  },
  {
   "cell_type": "code",
   "execution_count": null,
   "metadata": {},
   "outputs": [],
   "source": [
    "(0, 1), (0, 2), (0, 3), (0, 4), (0, 5), (1, 1), (1, 2), (1, 3), (1, 4), (1, 5),(2, 4), (2, 5), (3, 4), (3, 5), (4, 4), (4, 5),"
   ]
  },
  {
   "cell_type": "code",
   "execution_count": 1,
   "metadata": {},
   "outputs": [
    {
     "data": {
      "text/plain": [
       "115"
      ]
     },
     "execution_count": 1,
     "metadata": {},
     "output_type": "execute_result"
    }
   ],
   "source": [
    "len([(14, 45), (15, 45), (16, 45), (17, 45), (18, 45), (19, 45), (13, 46), (14, 46), (16, 46), (17, 46), (18, 46), (19, 46), (20, 46), (13, 47), (14, 47), (15, 47), (16, 47), (17, 47), (18, 47), (19, 47), (20, 47), (13, 48), (14, 48), (15, 48), (16, 48), (17, 48), (18, 48), (19, 48), (20, 48), (13, 49), (14, 49), (15, 49), (16, 49), (5, 50), (13, 50), (14, 50), (15, 50), (16, 50), (17, 50), (18, 50), (19, 50), (5, 51), (12, 51), (13, 51), (14, 51), (15, 51), (5, 52), (6, 52), (11, 52), (12, 52), (13, 52), (14, 52), (15, 52), (5, 53), (6, 53), (7, 53), (10, 53), (11, 53), (12, 53), (13, 53), (14, 53), (15, 53), (16, 53), (17, 53), (5, 54), (6, 54), (7, 54), (8, 54), (9, 54), (10, 54), (11, 54), (12, 54), (13, 54), (14, 54), (15, 54), (17, 54), (6, 55), (7, 55), (8, 55), (9, 55), (10, 55), (11, 55), (12, 55), (13, 55), (14, 55), (15, 55), (7, 56), (8, 56), (9, 56), (10, 56), (11, 56), (12, 56), (13, 56), (14, 56), (8, 57), (9, 57), (10, 57), (11, 57), (12, 57), (13, 57), (9, 58), (10, 58), (11, 58), (12, 58), (13, 58), (9, 59), (10, 59), (12, 59), (13, 59), (9, 60), (13, 60), (9, 61), (10, 61), (13, 61), (14, 61)]\n",
    ")"
   ]
  },
  {
   "cell_type": "markdown",
   "metadata": {},
   "source": [
    "### <font face='comic sans ms' color ='magenta'>snake version 1</font>"
   ]
  },
  {
   "cell_type": "code",
   "execution_count": null,
   "metadata": {},
   "outputs": [],
   "source": [
    "from machine import Pin, I2C\n",
    "from ssd1306 import SSD1306_I2C\n",
    "import _thread,utime\n",
    "\n",
    "def render(screen,points,color=1):\n",
    "    for point in points:\n",
    "        oled.pixel(point[0],point[1],color)\n",
    "\n",
    "def move(points,x=0,y=0):\n",
    "    for i in range(len(points)):\n",
    "        point=points[i]\n",
    "        points[i]=(point[0]+x,point[1]+y)\n",
    "\n",
    "def removeOutlier(points):\n",
    "    for point in points:\n",
    "        if point[0]<0:\n",
    "            points.remove(point)\n",
    "\n",
    "def dino():\n",
    "    return [(14, 45), (15, 45), (16, 45), (17, 45), (18, 45), (19, 45), (13, 46), (14, 46), (16, 46), (17, 46), (18, 46), (19, 46), (20, 46), (13, 47), (14, 47), (15, 47), (16, 47), (17, 47), (18, 47), (19, 47), (20, 47), (13, 48), (14, 48), (15, 48), (16, 48), (17, 48), (18, 48), (19, 48), (20, 48), (13, 49), (14, 49), (15, 49), (16, 49), (5, 50), (13, 50), (14, 50), (15, 50), (16, 50), (17, 50), (18, 50), (19, 50), (5, 51), (12, 51), (13, 51), (14, 51), (15, 51), (5, 52), (6, 52), (11, 52), (12, 52), (13, 52), (14, 52), (15, 52), (5, 53), (6, 53), (7, 53), (10, 53), (11, 53), (12, 53), (13, 53), (14, 53), (15, 53), (16, 53), (17, 53), (5, 54), (6, 54), (7, 54), (8, 54), (9, 54), (10, 54), (11, 54), (12, 54), (13, 54), (14, 54), (15, 54), (17, 54), (6, 55), (7, 55), (8, 55), (9, 55), (10, 55), (11, 55), (12, 55), (13, 55), (14, 55), (15, 55), (7, 56), (8, 56), (9, 56), (10, 56), (11, 56), (12, 56), (13, 56), (14, 56), (8, 57), (9, 57), (10, 57), (11, 57), (12, 57), (13, 57), (9, 58), (10, 58), (11, 58), (12, 58), (13, 58), (9, 59), (10, 59), (12, 59), (13, 59), (9, 60), (13, 60), (9, 61), (10, 61), (13, 61), (14, 61)]\n",
    "\n",
    "def getObs():\n",
    "    height=12 # some random height between 2 and 5\n",
    "    obstaclePo=[(127, 49), (127, 50), (127, 51), (127, 52), (127, 53), (127, 54), (129, 47), (129, 48), (129, 49), (129, 50), (129, 51), (129, 52), (129, 53), (129, 54), (129, 55), (129, 56), (129, 57), (129, 58), (129, 59), (129, 60), (129, 61), (131, 47), (131, 48), (131, 49), (131, 50), (131, 51), (131, 52), (128, 54), (130, 52)]\n",
    "    return obstaclePo\n",
    "\n",
    "def jump(screen,obstaclePoints):\n",
    "    button=Pin(16,Pin.IN, pull=Pin.PULL_DOWN)\n",
    "    def up(points):\n",
    "        for i in range(len(points)):\n",
    "            point=points[i]\n",
    "            points[i]=(point[0],point[1]-1)\n",
    "    def down(points):\n",
    "        for i in range(len(points)):\n",
    "            point=points[i]\n",
    "            points[i]=(point[0],point[1]+1)\n",
    "    \n",
    "    di=dino()\n",
    "    c=0\n",
    "    while True:\n",
    "        removeOutlier(obstaclePoints)\n",
    "        if button.value()==1:\n",
    "            for i in range(16):\n",
    "                render(screen,di+obstaclePoints)\n",
    "                if condition(di,obstaclePoints): return\n",
    "                screen.show()\n",
    "                render(screen,di+obstaclePoints,0)\n",
    "                move(di,y=-2)\n",
    "                move(obstaclePoints,x=-2)\n",
    "\n",
    "            for i in range(16):\n",
    "                render(screen,di+obstaclePoints)\n",
    "                if condition(di,obstaclePoints): return\n",
    "                screen.show()\n",
    "                render(screen,di+obstaclePoints,0)\n",
    "                move(di,y=2)\n",
    "                move(obstaclePoints,x=-2)\n",
    "        else:\n",
    "            render(screen,di+obstaclePoints)\n",
    "            if condition(di,obstaclePoints): return\n",
    "            screen.show()\n",
    "            #utime.sleep(100)\n",
    "            render(screen,di+obstaclePoints,0)\n",
    "            move(obstaclePoints,x=-2)\n",
    "            \n",
    "        if c==0: # half screen +- random between 1 to 10\n",
    "            obstaclePoints+=getObs()\n",
    "        c=(c+1.5)%60\n",
    "\n",
    "def condition(dinoPoints,obstaclePoints):\n",
    "    for point in dinoPoints:\n",
    "        if point in obstaclePoints:\n",
    "            return True\n",
    "    return False\n",
    "\n",
    "i2c=I2C(0,sda=Pin(0), scl=Pin(1) )\n",
    "oled=SSD1306_I2C(128,64,i2c)\n",
    "oled.text(\"game starts in 3 sec\",0,31)\n",
    "oled.show()\n",
    "utime.sleep(1)\n",
    "oled.fill(0)\n",
    "obstaclePoints=[]\n",
    "#obstacle(oled,obstaclePoints,0)\n",
    "jump(oled,obstaclePoints)\n",
    "# _thread.start_new_thread(obstacle)\n",
    "oled.fill(1)\n",
    "oled.text(\"Game over\",0,31,0)\n",
    "oled.show()"
   ]
  },
  {
   "cell_type": "markdown",
   "metadata": {},
   "source": [
    "### <font face='comic sans ms' color ='magenta'>Version 2</font>"
   ]
  },
  {
   "cell_type": "code",
   "execution_count": null,
   "metadata": {},
   "outputs": [],
   "source": [
    "from machine import Pin, I2C\n",
    "from ssd1306 import SSD1306_I2C\n",
    "import _thread,utime\n",
    "class Dino:\n",
    "    obstaclePoints=[]\n",
    "    jumpHeight=16\n",
    "    obSpeed=2   # obstacle speed\n",
    "    score=0\n",
    "\n",
    "    def intro(screen):\n",
    "        screen.text(\"Game starts\",20,22)\n",
    "        for i in range(3,0,-1):\n",
    "            screen.text(f\"in {i} seconds\",15,38)\n",
    "            screen.show()\n",
    "            screen.text(f\"in {i} seconds\",15,38,0)\n",
    "            utime.sleep(1)\n",
    "        screen.fill(0)\n",
    "\n",
    "    def gameOver(screen):\n",
    "        screen.fill(1)\n",
    "        screen.text(\"Game Over\",20,22,0)\n",
    "        screen.text(f\"Your Score:{Dino.score}\",10,38,0)\n",
    "        screen.show()\n",
    "\n",
    "    def render(screen,points,color=1):\n",
    "        for point in points:\n",
    "            screen.pixel(point[0],point[1],color)\n",
    "\n",
    "    def move(points,x=0,y=0):\n",
    "        for i in range(len(points)):\n",
    "            point=points[i]\n",
    "            points[i]=(point[0]+x,point[1]+y)\n",
    "    \n",
    "    def removeOutlier():\n",
    "        points=Dino.obstaclePoints\n",
    "        for point in points:\n",
    "            if point[0]<0:\n",
    "                points.remove(point)\n",
    "    \n",
    "    def condition(dinoPoints,obstaclePoints):\n",
    "        for point in dinoPoints:\n",
    "            if point in obstaclePoints:\n",
    "                return True\n",
    "        return False\n",
    "\n",
    "    def dino():\n",
    "        return [(14, 45), (15, 45), (16, 45), (17, 45), (18, 45), (19, 45), (13, 46), (14, 46), (16, 46), (17, 46), (18, 46), (19, 46), (20, 46), (13, 47), (14, 47), (15, 47), (16, 47), (17, 47), (18, 47), (19, 47), (20, 47), (13, 48), (14, 48), (15, 48), (16, 48), (17, 48), (18, 48), (19, 48), (20, 48), (13, 49), (14, 49), (15, 49), (16, 49), (5, 50), (13, 50), (14, 50), (15, 50), (16, 50), (17, 50), (18, 50), (19, 50), (5, 51), (12, 51), (13, 51), (14, 51), (15, 51), (5, 52), (6, 52), (11, 52), (12, 52), (13, 52), (14, 52), (15, 52), (5, 53), (6, 53), (7, 53), (10, 53), (11, 53), (12, 53), (13, 53), (14, 53), (15, 53), (16, 53), (17, 53), (5, 54), (6, 54), (7, 54), (8, 54), (9, 54), (10, 54), (11, 54), (12, 54), (13, 54), (14, 54), (15, 54), (17, 54), (6, 55), (7, 55), (8, 55), (9, 55), (10, 55), (11, 55), (12, 55), (13, 55), (14, 55), (15, 55), (7, 56), (8, 56), (9, 56), (10, 56), (11, 56), (12, 56), (13, 56), (14, 56), (8, 57), (9, 57), (10, 57), (11, 57), (12, 57), (13, 57), (9, 58), (10, 58), (11, 58), (12, 58), (13, 58), (9, 59), (10, 59), (12, 59), (13, 59), (9, 60), (13, 60), (9, 61), (10, 61), (13, 61), (14, 61)]\n",
    "\n",
    "    def getObstacles():\n",
    "        return [(127, 49), (127, 50), (127, 51), (127, 52), (127, 53), (127, 54), (129, 47), (129, 48), (129, 49), (129, 50), (129, 51), (129, 52), (129, 53), (129, 54), (129, 55), (129, 56), (129, 57), (129, 58), (129, 59), (129, 60), (129, 61), (131, 47), (131, 48), (131, 49), (131, 50), (131, 51), (131, 52), (128, 54), (130, 52)]\n",
    "\n",
    "    def play(btnPin):\n",
    "        def jump(screen,dinoPts,obsPts,y):\n",
    "            for i in range(Dino.jumpHeight):\n",
    "                Dino.render(screen,dinoPts+obsPts)\n",
    "                if Dino.condition(dinoPts,obsPts):  return\n",
    "                screen.show()\n",
    "                Dino.render(screen,dinoPts+obsPts,0)\n",
    "                Dino.move(dinoPts,y=y)\n",
    "                Dino.move(obsPts,x=-Dino.obSpeed)\n",
    "\n",
    "        i2c=I2C(0,sda=Pin(0), scl=Pin(1) )\n",
    "        screen=SSD1306_I2C(128,64,i2c)\n",
    "        Dino.intro(screen)\n",
    "        button=Pin(btnPin,Pin.IN, pull=Pin.PULL_DOWN)\n",
    "        dinoPts=Dino.dino()\n",
    "        c=0\n",
    "        while True:\n",
    "            if c==0: # half screen +- random between 1 to 10\n",
    "                Dino.obstaclePoints+=Dino.getObstacles()\n",
    "            c=(c+Dino.obSpeed)%60\n",
    "\n",
    "            if button.value()==1:\n",
    "                jump(screen,dinoPts,Dino.obstaclePoints,y=-2)\n",
    "                jump(screen,dinoPts,Dino.obstaclePoints,y=2)\n",
    "            else:\n",
    "                Dino.render(screen,dinoPts+Dino.obstaclePoints)\n",
    "                screen.show()\n",
    "                Dino.render(screen,dinoPts+Dino.obstaclePoints,0)\n",
    "                Dino.move(Dino.obstaclePoints,x=-Dino.obSpeed)\n",
    "            if Dino.condition(dinoPts,Dino.obstaclePoints): break\n",
    "            Dino.removeOutlier()\n",
    "        Dino.gameOver(screen)\n",
    "\n",
    "Dino.play(16)"
   ]
  },
  {
   "cell_type": "markdown",
   "metadata": {},
   "source": [
    "# <font face='comic sans ms' color ='PaleTurquoise'>Friday 2022-11-18</font>"
   ]
  },
  {
   "cell_type": "code",
   "execution_count": 3,
   "metadata": {},
   "outputs": [
    {
     "data": {
      "text/plain": [
       "'aaa'"
      ]
     },
     "execution_count": 3,
     "metadata": {},
     "output_type": "execute_result"
    }
   ],
   "source": [
    "a='aaa'\n",
    "a[0:5]"
   ]
  },
  {
   "cell_type": "code",
   "execution_count": 6,
   "metadata": {},
   "outputs": [
    {
     "name": "stdout",
     "output_type": "stream",
     "text": [
      "abcdefghijklmnop\n",
      "qrstuvwxyzabcdef\n",
      "ghijklmnopqrstuv\n",
      "wxyz\n",
      "\n"
     ]
    }
   ],
   "source": [
    "content=\"abcdefghijklmnopqrstuvwxyz\"*2\n",
    "for i in range(0,len(content)+16,16):\n",
    "    print(content[i:i+16])"
   ]
  },
  {
   "cell_type": "code",
   "execution_count": 20,
   "metadata": {},
   "outputs": [
    {
     "data": {
      "text/plain": [
       "5"
      ]
     },
     "execution_count": 20,
     "metadata": {},
     "output_type": "execute_result"
    }
   ],
   "source": [
    "content=\"abcdefghijklmnopqrstuvwxyz\"*3\n",
    "len(content)//16+1"
   ]
  },
  {
   "cell_type": "code",
   "execution_count": 25,
   "metadata": {},
   "outputs": [
    {
     "data": {
      "text/plain": [
       "4"
      ]
     },
     "execution_count": 25,
     "metadata": {},
     "output_type": "execute_result"
    }
   ],
   "source": [
    "(len(content)//16)"
   ]
  },
  {
   "cell_type": "code",
   "execution_count": 7,
   "metadata": {},
   "outputs": [],
   "source": [
    "class ABC:\n",
    "    def meth():\n",
    "        print('in method 1')\n",
    "    def meth(a):\n",
    "        print('in method 2')\n",
    "    "
   ]
  },
  {
   "cell_type": "code",
   "execution_count": 10,
   "metadata": {},
   "outputs": [
    {
     "ename": "TypeError",
     "evalue": "meth() missing 1 required positional argument: 'a'",
     "output_type": "error",
     "traceback": [
      "\u001b[1;31m---------------------------------------------------------------------------\u001b[0m",
      "\u001b[1;31mTypeError\u001b[0m                                 Traceback (most recent call last)",
      "\u001b[1;32md:\\Works_Space\\SOA_University\\Semester_7\\IoT\\OLED\\testing.ipynb Cell 85\u001b[0m in \u001b[0;36m<cell line: 1>\u001b[1;34m()\u001b[0m\n\u001b[1;32m----> <a href='vscode-notebook-cell:/d%3A/Works_Space/SOA_University/Semester_7/IoT/OLED/testing.ipynb#Y152sZmlsZQ%3D%3D?line=0'>1</a>\u001b[0m ABC\u001b[39m.\u001b[39;49mmeth()\n",
      "\u001b[1;31mTypeError\u001b[0m: meth() missing 1 required positional argument: 'a'"
     ]
    }
   ],
   "source": [
    "ABC.meth()"
   ]
  },
  {
   "cell_type": "code",
   "execution_count": null,
   "metadata": {},
   "outputs": [],
   "source": []
  }
 ],
 "metadata": {
  "kernelspec": {
   "display_name": "Python 3.9.12 ('base')",
   "language": "python",
   "name": "python3"
  },
  "language_info": {
   "codemirror_mode": {
    "name": "ipython",
    "version": 3
   },
   "file_extension": ".py",
   "mimetype": "text/x-python",
   "name": "python",
   "nbconvert_exporter": "python",
   "pygments_lexer": "ipython3",
   "version": "3.9.12"
  },
  "orig_nbformat": 4,
  "vscode": {
   "interpreter": {
    "hash": "649e9a488baa9f755be1bd774174f13c00c6eb61d6f5988e2904ab6e22ac3fc0"
   }
  }
 },
 "nbformat": 4,
 "nbformat_minor": 2
}
