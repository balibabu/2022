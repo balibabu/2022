{
 "cells": [
  {
   "cell_type": "markdown",
   "metadata": {},
   "source": [
    "## <font face='comic sans ms' color ='Blue'>1.Initialize the following term-incidence matrix. Process the following query:  “Brutus AND Caesar AND NOT Calpurnia”</font>"
   ]
  },
  {
   "cell_type": "code",
   "execution_count": 25,
   "metadata": {},
   "outputs": [],
   "source": [
    "plays=['Antony and Cleopatra', 'Julius Caesar', 'The Tempest', 'Hamlet', 'Othello', 'Macbeth']\n",
    "characters=['Antony','Brutus','Caesar','Calpurnia','Cleopatra','mercy','worser']"
   ]
  },
  {
   "cell_type": "code",
   "execution_count": 22,
   "metadata": {},
   "outputs": [],
   "source": [
    "involvement={'Antony': '110001', 'Brutus': '110100', 'Caesar': '110111',\n",
    " 'Calpurnia': '010000', 'Cleopatra': '100000', 'mercy': '101111', 'worser': '101110'}"
   ]
  },
  {
   "cell_type": "code",
   "execution_count": 18,
   "metadata": {},
   "outputs": [],
   "source": [
    "def andOperation(str1,str2):\n",
    "    str3=''\n",
    "    for i,j in zip(str1,str2):\n",
    "        str3+='1' if i==j=='1' else '0'\n",
    "    return str3\n",
    "\n",
    "def orOperation(str1,str2):\n",
    "    str3=''\n",
    "    for i,j in zip(str1,str2):\n",
    "        str3+='0' if i==j=='0' else '1'\n",
    "    return str3\n",
    "\n",
    "def notOperation(str1):\n",
    "    str2=''\n",
    "    for i in str1:\n",
    "        str2+='1' if i=='0' else '0'\n",
    "    return str2"
   ]
  },
  {
   "cell_type": "code",
   "execution_count": 23,
   "metadata": {},
   "outputs": [
    {
     "data": {
      "text/plain": [
       "'110100'"
      ]
     },
     "execution_count": 23,
     "metadata": {},
     "output_type": "execute_result"
    }
   ],
   "source": [
    "Brutus_AND_Caesar = andOperation(involvement['Brutus'],involvement['Caesar'])\n",
    "Brutus_AND_Caesar"
   ]
  },
  {
   "cell_type": "code",
   "execution_count": 24,
   "metadata": {},
   "outputs": [
    {
     "data": {
      "text/plain": [
       "'100100'"
      ]
     },
     "execution_count": 24,
     "metadata": {},
     "output_type": "execute_result"
    }
   ],
   "source": [
    "Brutus_AND_Caesar_AND_NOT_Calpurnia=andOperation(Brutus_AND_Caesar,notOperation(involvement['Calpurnia']))\n",
    "Brutus_AND_Caesar_AND_NOT_Calpurnia"
   ]
  },
  {
   "cell_type": "code",
   "execution_count": 26,
   "metadata": {},
   "outputs": [
    {
     "name": "stdout",
     "output_type": "stream",
     "text": [
      "Antony and Cleopatra\n",
      "Hamlet\n"
     ]
    }
   ],
   "source": [
    "for i,play in zip(Brutus_AND_Caesar_AND_NOT_Calpurnia,plays):\n",
    "    if i=='1':\n",
    "        print(play)"
   ]
  },
  {
   "cell_type": "markdown",
   "metadata": {},
   "source": [
    "## <font face='comic sans ms' color ='Blue'>2. Given four documents: Generate the term-document incidence matrix.</font>"
   ]
  },
  {
   "cell_type": "markdown",
   "metadata": {},
   "source": [
    "Doc1: Breakthrough drug for Schizophernia\n",
    "\n",
    "Doc2: New Schizophernia drug\n",
    "\n",
    "Doc3: New approach for treatment of Schizophernia\n",
    "\n",
    "Doc4: New hopes for Schizophernia patients"
   ]
  },
  {
   "cell_type": "code",
   "execution_count": 2,
   "metadata": {},
   "outputs": [],
   "source": [
    "Doc1=['Breakthrough', 'drug', 'for', 'Schizophernia']\n",
    "Doc2=['New', 'Schizophernia', 'drug']\n",
    "Doc3=['New', 'approach', 'for', 'treatment', 'of', 'Schizophernia']\n",
    "Doc4=['New', 'hopes', 'for', 'Schizophernia', 'patients']\n",
    "terms=['Schizophernia', 'hopes', 'New', 'patients', 'approach', 'treatment', 'Breakthrough', 'for', 'drug', 'of']\n",
    "Docs=[Doc1,Doc2,Doc3,Doc4]"
   ]
  },
  {
   "cell_type": "code",
   "execution_count": 42,
   "metadata": {},
   "outputs": [],
   "source": [
    "matrix=[]\n",
    "for Doc in Docs:\n",
    "    row=[]\n",
    "    for term in terms:\n",
    "        if term in Doc:\n",
    "            row.append(1)\n",
    "        else:\n",
    "            row.append(0)\n",
    "    matrix.append(row)"
   ]
  },
  {
   "cell_type": "code",
   "execution_count": 43,
   "metadata": {},
   "outputs": [
    {
     "data": {
      "text/plain": [
       "[[1, 0, 0, 0, 0, 0, 1, 1, 1, 0],\n",
       " [1, 0, 1, 0, 0, 0, 0, 0, 1, 0],\n",
       " [1, 0, 1, 0, 1, 1, 0, 1, 0, 1],\n",
       " [1, 1, 1, 1, 0, 0, 0, 1, 0, 0]]"
      ]
     },
     "execution_count": 43,
     "metadata": {},
     "output_type": "execute_result"
    }
   ],
   "source": [
    "matrix"
   ]
  },
  {
   "cell_type": "markdown",
   "metadata": {},
   "source": [
    "## <font face='comic sans ms' color ='Blue'>3.Construct an Inverted Index for the above specified input document collections.</font>"
   ]
  },
  {
   "cell_type": "code",
   "execution_count": 50,
   "metadata": {},
   "outputs": [],
   "source": [
    "Doc1=['Breakthrough', 'drug', 'for', 'Schizophernia']\n",
    "Doc2=['New', 'Schizophernia', 'drug']\n",
    "Doc3=['New', 'approach', 'for', 'treatment', 'of', 'Schizophernia']\n",
    "Doc4=['New', 'hopes', 'for', 'Schizophernia', 'patients']\n",
    "terms=['Schizophernia', 'hopes', 'New', 'patients', 'approach', 'treatment', 'Breakthrough', 'for', 'drug', 'of']\n",
    "Docs=[Doc1,Doc2,Doc3,Doc4]\n",
    "\n",
    "def toLower(lists):\n",
    "    for i in range(len(lists)):\n",
    "        lists[i]=lists[i].lower()\n",
    "        \n",
    "# converting all terms in lower case\n",
    "toLower(terms)\n",
    "for doc in Docs:\n",
    "    toLower(doc)"
   ]
  },
  {
   "cell_type": "code",
   "execution_count": 51,
   "metadata": {},
   "outputs": [
    {
     "name": "stdout",
     "output_type": "stream",
     "text": [
      "schizophernia:-> 1-> 2-> 3-> 4\n",
      "hopes:-> 4\n",
      "new:-> 2-> 3-> 4\n",
      "patients:-> 4\n",
      "approach:-> 3\n",
      "treatment:-> 3\n",
      "breakthrough:-> 1\n",
      "for:-> 1-> 3-> 4\n",
      "drug:-> 1-> 2\n",
      "of:-> 3\n"
     ]
    }
   ],
   "source": [
    "# creating inverted index\n",
    "for term in terms:\n",
    "    print(term,end=':')\n",
    "    for i in range(len(Docs)):\n",
    "        if term in Docs[i]:\n",
    "            print('-> '+str(i+1),end='')\n",
    "    print()"
   ]
  },
  {
   "cell_type": "markdown",
   "metadata": {},
   "source": [
    "## <font face='comic sans ms' color ='Blue'>4.Construct a Sorting based Inverted Index for the above specified input document collections.</font>"
   ]
  },
  {
   "cell_type": "code",
   "execution_count": 52,
   "metadata": {},
   "outputs": [],
   "source": [
    "Doc1=['Breakthrough', 'drug', 'for', 'Schizophernia']\n",
    "Doc2=['New', 'Schizophernia', 'drug']\n",
    "Doc3=['New', 'approach', 'for', 'treatment', 'of', 'Schizophernia']\n",
    "Doc4=['New', 'hopes', 'for', 'Schizophernia', 'patients']\n",
    "terms=['Schizophernia', 'hopes', 'New', 'patients', 'approach', 'treatment', 'Breakthrough', 'for', 'drug', 'of']\n",
    "Docs=[Doc1,Doc2,Doc3,Doc4]\n"
   ]
  },
  {
   "cell_type": "code",
   "execution_count": 53,
   "metadata": {},
   "outputs": [],
   "source": [
    "# function to convert terms of list in lower case\n",
    "def toLower(lists):\n",
    "    for i in range(len(lists)):\n",
    "        lists[i]=lists[i].lower()\n",
    "        \n",
    "# converting all terms in lower case\n",
    "toLower(terms)\n",
    "for doc in Docs:\n",
    "    toLower(doc)\n",
    "    \n",
    "# sorting the terms\n",
    "terms.sort()"
   ]
  },
  {
   "cell_type": "code",
   "execution_count": 54,
   "metadata": {},
   "outputs": [
    {
     "name": "stdout",
     "output_type": "stream",
     "text": [
      "approach:-> 3\n",
      "breakthrough:-> 1\n",
      "drug:-> 1-> 2\n",
      "for:-> 1-> 3-> 4\n",
      "hopes:-> 4\n",
      "new:-> 2-> 3-> 4\n",
      "of:-> 3\n",
      "patients:-> 4\n",
      "schizophernia:-> 1-> 2-> 3-> 4\n",
      "treatment:-> 3\n"
     ]
    }
   ],
   "source": [
    "# creating inverted index\n",
    "for term in terms:\n",
    "    print(term,end=':')\n",
    "    for i in range(len(Docs)):\n",
    "        if term in Docs[i]:\n",
    "            print('-> '+str(i+1),end='')\n",
    "    print()"
   ]
  },
  {
   "cell_type": "markdown",
   "metadata": {},
   "source": [
    "## <font face='comic sans ms' color ='Blue'>5.Process the query 'BRUTUS AND CALPURNIA' using the intersect algorithm.</font>"
   ]
  },
  {
   "cell_type": "code",
   "execution_count": 55,
   "metadata": {},
   "outputs": [],
   "source": [
    "def intersection(list1,list2):\n",
    "    answer=[]\n",
    "    len1,len2=0,0\n",
    "    while len1!=len(list1) and len2!=len(list2):\n",
    "        if list1[len1]==list2[len2]:\n",
    "            answer.append(list1[len1])\n",
    "            len1+=1\n",
    "            len2+=1\n",
    "        elif list1[len1]<list2[len2]:\n",
    "            len1+=1\n",
    "        else:\n",
    "            len2+=1\n",
    "    return answer"
   ]
  },
  {
   "cell_type": "code",
   "execution_count": 56,
   "metadata": {},
   "outputs": [],
   "source": [
    "BRUTUS=[1,2,4,11,31,45,173,174]\n",
    "CALPURNIA=[2,31,54,101]"
   ]
  },
  {
   "cell_type": "code",
   "execution_count": 57,
   "metadata": {},
   "outputs": [
    {
     "name": "stdout",
     "output_type": "stream",
     "text": [
      "[2, 31]\n"
     ]
    }
   ],
   "source": [
    "print(intersection(BRUTUS,CALPURNIA))"
   ]
  },
  {
   "cell_type": "code",
   "execution_count": null,
   "metadata": {},
   "outputs": [],
   "source": []
  }
 ],
 "metadata": {
  "kernelspec": {
   "display_name": "Python 3.9.12 ('base')",
   "language": "python",
   "name": "python3"
  },
  "language_info": {
   "codemirror_mode": {
    "name": "ipython",
    "version": 3
   },
   "file_extension": ".py",
   "mimetype": "text/x-python",
   "name": "python",
   "nbconvert_exporter": "python",
   "pygments_lexer": "ipython3",
   "version": "3.9.12"
  },
  "orig_nbformat": 4,
  "vscode": {
   "interpreter": {
    "hash": "649e9a488baa9f755be1bd774174f13c00c6eb61d6f5988e2904ab6e22ac3fc0"
   }
  }
 },
 "nbformat": 4,
 "nbformat_minor": 2
}
