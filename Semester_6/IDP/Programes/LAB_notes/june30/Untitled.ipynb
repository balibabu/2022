{
 "cells": [
  {
   "cell_type": "markdown",
   "id": "f9009991",
   "metadata": {},
   "source": [
    "### Reading file using csv reader"
   ]
  },
  {
   "cell_type": "code",
   "execution_count": 15,
   "id": "acbb164a",
   "metadata": {},
   "outputs": [
    {
     "name": "stdout",
     "output_type": "stream",
     "text": [
      "6/20/2014 AAPL 90.91\n",
      "6/20/2014 MSFT 41.68\n",
      "6/20/2014 FB 64.5\n",
      "6/19/2014 AAPL 91.86\n",
      "6/19/2014 MSFT 41.51\n",
      "6/19/2014 FB 64.34\n"
     ]
    }
   ],
   "source": [
    "import csv\n",
    "with open('tab_delimited_stock_prices.txt') as f:\n",
    "    tab_reader=csv.reader(f,delimiter='\\t')\n",
    "#     next(tab_reader)  \n",
    "    '''to ignore the first line'''\n",
    "    for row in tab_reader:\n",
    "        date=row[0]\n",
    "        symbol=row[1]\n",
    "        closing_price=float(row[2])\n",
    "        print(date, symbol, closing_price)"
   ]
  },
  {
   "cell_type": "markdown",
   "id": "2656e2ba",
   "metadata": {},
   "source": [
    "### Reading file using dict reader"
   ]
  },
  {
   "cell_type": "code",
   "execution_count": 10,
   "id": "43622985",
   "metadata": {},
   "outputs": [
    {
     "name": "stdout",
     "output_type": "stream",
     "text": [
      "6/20/2014 AAPL 90.91\n",
      "6/20/2014 MSFT 41.68\n",
      "6/20/2014 FB 64.5\n",
      "6/19/2014 AAPL 91.86\n",
      "6/19/2014 MSFT 41.51\n",
      "6/19/2014 FB 64.34\n"
     ]
    }
   ],
   "source": [
    "with open(\"colon_delimited_stock_prices.txt\") as f:\n",
    "    colon_reader=csv.DictReader(f,delimiter=\":\")\n",
    "    for dict_row in colon_reader:\n",
    "        date=dict_row['date']\n",
    "        symbol=dict_row['symbol']\n",
    "        closing_price=dict_row['closing_price']\n",
    "        print(date, symbol, closing_price)"
   ]
  },
  {
   "cell_type": "markdown",
   "id": "9bc757a1",
   "metadata": {},
   "source": [
    "### writing out delimited data using csv.writer"
   ]
  },
  {
   "cell_type": "code",
   "execution_count": 17,
   "id": "63d31c3c",
   "metadata": {},
   "outputs": [],
   "source": [
    "today_prices={'AAPL':90.91, 'MSFT':41.68, 'FB':64.5}\n",
    "with open('filename1_comma.txt','w') as f:\n",
    "    csv_writer=csv.writer(f,delimiter=',')\n",
    "    for stock, price in today_prices.items():\n",
    "        csv_writer.writerow([stock,price])"
   ]
  },
  {
   "cell_type": "code",
   "execution_count": null,
   "id": "4a0098b0",
   "metadata": {},
   "outputs": [],
   "source": [
    "### "
   ]
  },
  {
   "cell_type": "code",
   "execution_count": null,
   "id": "de9a6ac3",
   "metadata": {},
   "outputs": [],
   "source": []
  },
  {
   "cell_type": "code",
   "execution_count": null,
   "id": "460ee1f2",
   "metadata": {},
   "outputs": [],
   "source": []
  },
  {
   "cell_type": "code",
   "execution_count": null,
   "id": "01b84328",
   "metadata": {},
   "outputs": [],
   "source": []
  },
  {
   "cell_type": "code",
   "execution_count": null,
   "id": "4e0968ac",
   "metadata": {},
   "outputs": [],
   "source": []
  },
  {
   "cell_type": "code",
   "execution_count": null,
   "id": "a7b8efed",
   "metadata": {},
   "outputs": [],
   "source": []
  },
  {
   "cell_type": "code",
   "execution_count": null,
   "id": "9be17457",
   "metadata": {},
   "outputs": [],
   "source": []
  },
  {
   "cell_type": "code",
   "execution_count": null,
   "id": "013f14e3",
   "metadata": {},
   "outputs": [],
   "source": []
  },
  {
   "cell_type": "code",
   "execution_count": null,
   "id": "ffa03554",
   "metadata": {},
   "outputs": [],
   "source": []
  },
  {
   "cell_type": "code",
   "execution_count": null,
   "id": "dceb84bc",
   "metadata": {},
   "outputs": [],
   "source": []
  }
 ],
 "metadata": {
  "kernelspec": {
   "display_name": "Python 3.9.7 ('base')",
   "language": "python",
   "name": "python3"
  },
  "language_info": {
   "codemirror_mode": {
    "name": "ipython",
    "version": 3
   },
   "file_extension": ".py",
   "mimetype": "text/x-python",
   "name": "python",
   "nbconvert_exporter": "python",
   "pygments_lexer": "ipython3",
   "version": "3.9.7"
  },
  "vscode": {
   "interpreter": {
    "hash": "649e9a488baa9f755be1bd774174f13c00c6eb61d6f5988e2904ab6e22ac3fc0"
   }
  }
 },
 "nbformat": 4,
 "nbformat_minor": 5
}
