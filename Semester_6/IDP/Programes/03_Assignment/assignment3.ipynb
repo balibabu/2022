{
 "cells": [
  {
   "cell_type": "markdown",
   "metadata": {},
   "source": [
    "## Programes"
   ]
  },
  {
   "cell_type": "markdown",
   "metadata": {},
   "source": [
    "##### <font face='comic sans ms' color ='yellow'>1. Find the derivate of using limit of the difference coeffficient method at x = 1.</font>"
   ]
  },
  {
   "cell_type": "code",
   "execution_count": 118,
   "metadata": {},
   "outputs": [
    {
     "name": "stdout",
     "output_type": "stream",
     "text": [
      "the derivative of given function at x=1 is  3.5513661338359976\n"
     ]
    }
   ],
   "source": [
    "import math\n",
    "def function(x):\n",
    "    x2=pow(x,2)\n",
    "    value=pow(math.e,x2)+math.sin(x)-math.tan(x)+math.log(x)\n",
    "    return value\n",
    "\n",
    "def derivative(f,x,h=0.00001):\n",
    "    return (f(x + h) - f(x))/h\n",
    "\n",
    "print('the derivative of given function at x=1 is ',derivative(function,1))"
   ]
  },
  {
   "cell_type": "markdown",
   "metadata": {},
   "source": [
    "##### <font face='comic sans ms' color ='PaleTurquoise'>2. Find the gradient of Rosenbrock function using limit of the difference coeffficient method at the point (1,2). Rosenbrock function is defined below.</font>"
   ]
  },
  {
   "cell_type": "code",
   "execution_count": 137,
   "metadata": {},
   "outputs": [
    {
     "name": "stdout",
     "output_type": "stream",
     "text": [
      "-399.9798959998202\n",
      "200.0100000003613\n"
     ]
    }
   ],
   "source": [
    "def function(x,y):\n",
    "    '''Rosenbrock function'''\n",
    "    return pow((1-x),2)+100*(pow((y-x*x),2))\n",
    "\n",
    "def p_derivative_wrt_x(f,x,y,h=0.0001):\n",
    "    return (f(x + h,y) - f(x,y))/h\n",
    "\n",
    "def p_derivative_wrt_y(f,x,y,h=0.0001):\n",
    "    return (f(x,y+h) - f(x,y))/h\n",
    "\n",
    "x,y=(1,2)\n",
    "print(p_derivative_wrt_x(function,x,y))\n",
    "print(p_derivative_wrt_y(function,x,y))"
   ]
  },
  {
   "cell_type": "markdown",
   "metadata": {},
   "source": [
    "##### <font face='comic sans ms' color ='red'>3. Find the point of minima of function using Gradient Descent method taking initial solution x0 = 2.</font>"
   ]
  },
  {
   "cell_type": "code",
   "execution_count": 136,
   "metadata": {},
   "outputs": [
    {
     "name": "stdout",
     "output_type": "stream",
     "text": [
      "local minima is at x = -0.4501427285991202 and value is -0.23246557312319335\n"
     ]
    }
   ],
   "source": [
    "def function(x):\n",
    "    return x*x+math.sin(x)\n",
    "\n",
    "def slope_at_x(x):\n",
    "    return 2*x+math.cos(x)\n",
    "\n",
    "def get_minima(x):\n",
    "    '''new = old - slope * learning_rate''' #by gradient descent\n",
    "    learning_rate=0.001\n",
    "    old_x=x\n",
    "    while True:\n",
    "        x=x-slope_at_x(x)*learning_rate\n",
    "        if (old_x-x)<0.0000001:\n",
    "            break\n",
    "        old_x=x\n",
    "    return x\n",
    "\n",
    "minima=get_minima(1)\n",
    "print(f'local minima is at x = {minima} and value is {function(minima)}')"
   ]
  },
  {
   "cell_type": "markdown",
   "metadata": {},
   "source": [
    "##### <font face='comic sans ms' color ='green'>4. Find the point of minima of Rosenbrock function using Gradient Descent method taking initial solution (0,0). Rosenbrock function is defined below.</font>"
   ]
  },
  {
   "cell_type": "code",
   "execution_count": 155,
   "metadata": {},
   "outputs": [
    {
     "name": "stdout",
     "output_type": "stream",
     "text": [
      "the minima is at (1.0,1.0) and value is 0.0\n"
     ]
    }
   ],
   "source": [
    "def function(x,y):\n",
    "    return pow((1-x),2)+pow((y-pow(x,2)),2)\n",
    "\n",
    "def p_derivative_wrt_x(f,x,y,h=0.000001):\n",
    "    return (f(x + h,y) - f(x,y))/h\n",
    "\n",
    "def p_derivative_wrt_y(f,x,y,h=0.000001):\n",
    "    return (f(x,y+h) - f(x,y))/h\n",
    "\n",
    "def get_minima(f,x,y):\n",
    "    learning_rate=0.001\n",
    "    old_x,old_y=x,y\n",
    "    while True:\n",
    "        x=x-learning_rate*p_derivative_wrt_x(f,x,y)\n",
    "        y=y-learning_rate*p_derivative_wrt_y(f,x,y)\n",
    "        if abs(old_x-x)<0.001 and abs(old_y-y)<0.0000001:\n",
    "            break\n",
    "        old_x,old_y=x,y\n",
    "    return round(x,3),round(y,3)\n",
    "    # return x,y\n",
    "x,y=get_minima(function,0,0)\n",
    "print(f'the minima is at ({x},{y}) and value is {function(x,y)}')"
   ]
  },
  {
   "cell_type": "markdown",
   "metadata": {},
   "source": [
    "##### <font face='comic sans ms' color ='blue'>5. Let X be a binomial random variable with parameters n = 100 and p = 0.6. Find the approximate probability that: 1. X lies above 60. 2. X lies between 50 and 70.</font>"
   ]
  },
  {
   "cell_type": "code",
   "execution_count": 234,
   "metadata": {},
   "outputs": [
    {
     "name": "stdout",
     "output_type": "stream",
     "text": [
      "0.46207534088596275\n",
      "0.9481179791264978\n"
     ]
    }
   ],
   "source": [
    "def getFactorial(x):\n",
    "    a=1\n",
    "    for i in range(1,x+1):\n",
    "        a*=i\n",
    "    return a\n",
    "\n",
    "def combination(n,k):\n",
    "    return getFactorial(n)/(getFactorial(n-k)*getFactorial(k))\n",
    "\n",
    "def probabilityAt(n,x,p,C=combination):\n",
    "    return C(n,x)*pow(p,x)*pow(1-p,n-x)\n",
    "\n",
    "def probabilityMoreThan(n,X,p):\n",
    "    probability=0\n",
    "    for i in range(X+1,n+1):\n",
    "        probability+=probabilityAt(n,i,p)\n",
    "    return probability\n",
    "\n",
    "def probabilityBetween(n,x1,x2,p):\n",
    "    probability=0\n",
    "    for i in range(x1+1,x2):\n",
    "        probability+=probabilityAt(n,i,p)\n",
    "    return probability\n",
    "\n",
    "print(probabilityMoreThan(n=100,X=60,p=0.6))\n",
    "print(probabilityBetween(100,50,70,0.6))"
   ]
  },
  {
   "cell_type": "markdown",
   "metadata": {},
   "source": [
    "##### <font face='comic sans ms' color ='violet'>6. Define p-value and find the two-sided p-value with and without continuity correction when the values of x(observed no. of heads), mean and standard deviation are 110, 100, 5 respectively.</font>"
   ]
  },
  {
   "cell_type": "code",
   "execution_count": null,
   "metadata": {},
   "outputs": [],
   "source": [
    "x,mu,sigma=110,100,5\n"
   ]
  },
  {
   "cell_type": "markdown",
   "metadata": {},
   "source": [
    "### From Book"
   ]
  },
  {
   "cell_type": "code",
   "execution_count": 10,
   "metadata": {},
   "outputs": [],
   "source": [
    "def f(x:float)->float:\n",
    "    '''this is equation: y=x^2+2x+5'''\n",
    "    return x*x+2*x+5"
   ]
  },
  {
   "cell_type": "code",
   "execution_count": 8,
   "metadata": {},
   "outputs": [],
   "source": [
    "from typing import Callable \n",
    "def difference_quotient(f: Callable[[float], float], x: float, h: float) -> float: \n",
    "    return (f(x + h) - f(x)) / h\n",
    "    "
   ]
  },
  {
   "cell_type": "code",
   "execution_count": 13,
   "metadata": {},
   "outputs": [
    {
     "data": {
      "text/plain": [
       "8.000009999875601"
      ]
     },
     "execution_count": 13,
     "metadata": {},
     "output_type": "execute_result"
    }
   ],
   "source": [
    "difference_quotient(f,3,0.00001)"
   ]
  },
  {
   "cell_type": "code",
   "execution_count": 14,
   "metadata": {},
   "outputs": [],
   "source": [
    "def square(x:float)->float:\n",
    "    return x*x\n",
    "def derivative(x:float)->float:\n",
    "    return 2*x"
   ]
  },
  {
   "cell_type": "code",
   "execution_count": 16,
   "metadata": {},
   "outputs": [
    {
     "name": "stdout",
     "output_type": "stream",
     "text": [
      "[-20, -18, -16, -14, -12, -10, -8, -6, -4, -2, 0, 2, 4, 6, 8, 10, 12, 14, 16, 18, 20]\n",
      "[-19.998999999984335, -17.998999999988996, -15.999000000007868, -13.999000000005424, -11.99900000000298, -9.999000000004088, -7.998999999999867, -5.998999999999199, -3.9989999999994197, -1.998999999999973, 0.001, 2.0009999999996975, 4.000999999999699, 6.000999999999479, 8.0010000000037, 10.001000000002591, 12.001000000005035, 14.00100000000748, 16.000999999988608, 18.000999999983947, 20.000999999993496]\n"
     ]
    }
   ],
   "source": [
    "xs = range(-10, 11) \n",
    "actuals = [derivative(x) for x in xs] \n",
    "estimates = [difference_quotient(square, x, h=0.001) for x in xs]\n",
    "print(actuals)\n",
    "print(estimates)"
   ]
  },
  {
   "cell_type": "code",
   "execution_count": 17,
   "metadata": {},
   "outputs": [
    {
     "data": {
      "image/png": "[encoded data removed]",
      "text/plain": [
       "<Figure size 432x288 with 1 Axes>"
      ]
     },
     "metadata": {
      "needs_background": "light"
     },
     "output_type": "display_data"
    }
   ],
   "source": [
    "# plot to show they're basically the same \n",
    "import matplotlib.pyplot as plt \n",
    "plt.title(\"Actual Derivatives vs. Estimates\") \n",
    "plt.plot(xs, actuals, 'rx', label='Actual') # red x \n",
    "plt.plot(xs, estimates, 'b+', label='Estimate') # blue + \n",
    "plt.legend(loc=9) \n",
    "plt.show()"
   ]
  },
  {
   "cell_type": "code",
   "execution_count": null,
   "metadata": {},
   "outputs": [],
   "source": [
    "def partial_difference_quotient(f: Callable[[Vector], float], v: Vector, i: int, h: float) -> float: \n",
    "    \"\"\"Returns the i-th partial difference quotient of f at v\"\"\" \n",
    "    w = [v_j + (h if j == i else 0) for j, v_j in enumerate(v)] # add h to just the ith element of v \n",
    "    return (f(w) - f(v)) / h"
   ]
  },
  {
   "cell_type": "code",
   "execution_count": null,
   "metadata": {},
   "outputs": [],
   "source": []
  },
  {
   "cell_type": "markdown",
   "metadata": {},
   "source": [
    "## Testing"
   ]
  },
  {
   "cell_type": "code",
   "execution_count": 21,
   "metadata": {},
   "outputs": [
    {
     "name": "stdout",
     "output_type": "stream",
     "text": [
      "Return type: <class 'enumerate'>\n",
      "[(0, 'eat'), (1, 'sleep'), (2, 'repeat')]\n",
      "[(2, 'g'), (3, 'e'), (4, 'e'), (5, 'k')]\n",
      "0 eat\n",
      "1 sleep\n",
      "2 repeat\n"
     ]
    }
   ],
   "source": [
    "l1 = [\"eat\", \"sleep\", \"repeat\"]\n",
    "s1 = \"geek\"\n",
    " \n",
    "# creating enumerate objects\n",
    "obj1 = enumerate(l1)\n",
    "obj2 = enumerate(s1)\n",
    " \n",
    "print (\"Return type:\", type(obj1))\n",
    "print (list(enumerate(l1)))\n",
    " \n",
    "# changing start index to 2 from 0\n",
    "print (list(enumerate(s1, 2)))\n",
    "\n",
    "for i,j in obj1:\n",
    "    print(i,j)"
   ]
  },
  {
   "cell_type": "code",
   "execution_count": 22,
   "metadata": {},
   "outputs": [
    {
     "data": {
      "text/plain": [
       "2.718281828459045"
      ]
     },
     "execution_count": 22,
     "metadata": {},
     "output_type": "execute_result"
    }
   ],
   "source": [
    "import math\n",
    "math.e"
   ]
  },
  {
   "cell_type": "code",
   "execution_count": 19,
   "metadata": {
    "ExecuteTime": {
     "end_time": "2022-07-01T15:11:31.503019Z",
     "start_time": "2022-07-01T15:10:56.797552Z"
    }
   },
   "outputs": [],
   "source": [
    "# !pip install pyppeteer"
   ]
  },
  {
   "cell_type": "code",
   "execution_count": 18,
   "metadata": {
    "ExecuteTime": {
     "end_time": "2022-07-01T15:30:48.152690Z",
     "start_time": "2022-07-01T15:30:48.110690Z"
    }
   },
   "outputs": [],
   "source": [
    "# !jupyter nbconvert --execute --to pdf assignment3.ipynb"
   ]
  },
  {
   "cell_type": "code",
   "execution_count": null,
   "metadata": {},
   "outputs": [],
   "source": [
    "def gradientDescent(X, y, theta, alpha, num_iters):\n",
    "    \"\"\"\n",
    "       Performs gradient descent to learn theta\n",
    "    \"\"\"\n",
    "    m = y.size  # number of training examples\n",
    "    for i in range(num_iters):\n",
    "        y_hat = np.dot(X, theta)\n",
    "        theta = theta - alpha * (1.0/m) * np.dot(X.T, y_hat-y)\n",
    "    return theta"
   ]
  },
  {
   "cell_type": "code",
   "execution_count": 36,
   "metadata": {},
   "outputs": [
    {
     "data": {
      "text/plain": [
       "-9.071809969896094e-08"
      ]
     },
     "execution_count": 36,
     "metadata": {},
     "output_type": "execute_result"
    }
   ],
   "source": [
    "def function(x,y):\n",
    "    return pow((1-x),2)+pow((y-pow(x,2)),2)\n",
    "\n",
    "def p_derivative_wrt_x(f,x,y,h=0.000001):\n",
    "    return (f(x + h,y) - f(x,y))/h\n",
    "\n",
    "def p_derivative_wrt_y(f,x,y,h=0.000001):\n",
    "    return (f(x,y+h) - f(x,y))/h\n",
    "\n",
    "def calculate_x(f,x,y,num_iterations=100000):\n",
    "    minima=x\n",
    "    learning_rate=0.001\n",
    "    for i in range(num_iterations):\n",
    "        minima=minima-learning_rate*p_derivative_wrt_x(f,minima,y)\n",
    "    return minima\n",
    "\n",
    "def calculate_y(f,x,y,num_iterations=100):\n",
    "    minima=y\n",
    "    learning_rate=0.001\n",
    "    for i in range(num_iterations):\n",
    "        minima=minima-learning_rate*p_derivative_wrt_y(f,x,minima)\n",
    "    return minima\n",
    "\n",
    "\n",
    "calculate_y(function,0,0)"
   ]
  },
  {
   "cell_type": "code",
   "execution_count": null,
   "metadata": {},
   "outputs": [
    {
     "data": {
      "text/plain": [
       "1"
      ]
     },
     "metadata": {},
     "output_type": "display_data"
    }
   ],
   "source": [
    "abs(3-4)"
   ]
  },
  {
   "cell_type": "code",
   "execution_count": null,
   "metadata": {},
   "outputs": [
    {
     "data": {
      "text/plain": [
       "(0.019803201565038453, 2.643866192642008e-06)"
      ]
     },
     "metadata": {},
     "output_type": "display_data"
    }
   ],
   "source": [
    "x,y=get_minima(function,0,0)\n",
    "x,y"
   ]
  },
  {
   "cell_type": "code",
   "execution_count": null,
   "metadata": {},
   "outputs": [],
   "source": [
    "def get_minima_x(f,x,y,num_iters=1000):\n",
    "    learning_rate=0.001\n",
    "    for i in range(num_iters):\n",
    "        x=x-learning_rate*p_derivative_wrt_x(f,x,y)\n",
    "    return round"
   ]
  },
  {
   "cell_type": "markdown",
   "metadata": {},
   "source": [
    "μ = np\n",
    "σ = √np(1-p)"
   ]
  },
  {
   "cell_type": "code",
   "execution_count": null,
   "metadata": {},
   "outputs": [],
   "source": [
    "def normal_cdf(x: float, mu: float = 0, sigma: float = 1) -> float: \n",
    "    return (1 + math.erf((x - mu) / math.sqrt(2) / sigma)) / 2"
   ]
  }
 ],
 "metadata": {
  "kernelspec": {
   "display_name": "Python 3 (ipykernel)",
   "language": "python",
   "name": "python3"
  },
  "language_info": {
   "codemirror_mode": {
    "name": "ipython",
    "version": 3
   },
   "file_extension": ".py",
   "mimetype": "text/x-python",
   "name": "python",
   "nbconvert_exporter": "python",
   "pygments_lexer": "ipython3",
   "version": "3.9.7"
  },
  "varInspector": {
   "cols": {
    "lenName": 16,
    "lenType": 16,
    "lenVar": 40
   },
   "kernels_config": {
    "python": {
     "delete_cmd_postfix": "",
     "delete_cmd_prefix": "del ",
     "library": "var_list.py",
     "varRefreshCmd": "print(var_dic_list())"
    },
    "r": {
     "delete_cmd_postfix": ") ",
     "delete_cmd_prefix": "rm(",
     "library": "var_list.r",
     "varRefreshCmd": "cat(var_dic_list()) "
    }
   },
   "types_to_exclude": [
    "module",
    "function",
    "builtin_function_or_method",
    "instance",
    "_Feature"
   ],
   "window_display": false
  },
  "vscode": {
   "interpreter": {
    "hash": "649e9a488baa9f755be1bd774174f13c00c6eb61d6f5988e2904ab6e22ac3fc0"
   }
  }
 },
 "nbformat": 4,
 "nbformat_minor": 2
}
