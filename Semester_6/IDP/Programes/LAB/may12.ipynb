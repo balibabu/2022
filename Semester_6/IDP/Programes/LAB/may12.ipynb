{
 "cells": [
  {
   "cell_type": "markdown",
   "id": "838660be",
   "metadata": {},
   "source": [
    "## scatter plot"
   ]
  },
  {
   "cell_type": "code",
   "execution_count": 1,
   "id": "4574c11c",
   "metadata": {},
   "outputs": [],
   "source": [
    "import matplotlib.pyplot as plt"
   ]
  },
  {
   "cell_type": "code",
   "execution_count": 3,
   "id": "eaa4d03b",
   "metadata": {},
   "outputs": [],
   "source": [
    "friends = [ 70, 65, 72, 63, 71, 64, 60, 64, 67]\n",
    "minutes = [175, 170, 205, 120, 220, 130, 105, 145, 190]\n",
    "labels = ['a', 'b', 'c', 'd', 'e', 'f', 'g', 'h', 'i']"
   ]
  },
  {
   "cell_type": "code",
   "execution_count": 12,
   "id": "f1e0e216",
   "metadata": {},
   "outputs": [
    {
     "data": {
      "image/png": "[encoded data removed]",
      "text/plain": [
       "<Figure size 432x288 with 1 Axes>"
      ]
     },
     "metadata": {
      "needs_background": "light"
     },
     "output_type": "display_data"
    }
   ],
   "source": [
    "plt.scatter(friends,minutes)\n",
    "\n",
    "for label,friend_count,minute_count in zip(labels,friends,minutes):\n",
    "    plt.annotate(\n",
    "        text=label,\n",
    "        xy=(friend_count,minute_count),\n",
    "        xytext=(5,-5),\n",
    "       textcoords='offset points'\n",
    "    )\n",
    "\n",
    "plt.title(\"Daily Minutes vs. Number of Friends\")\n",
    "plt.xlabel(\"# of friends\")\n",
    "plt.ylabel(\"daily minutes spent on the site\")\n",
    "plt.show()"
   ]
  },
  {
   "cell_type": "code",
   "execution_count": 13,
   "id": "3847af6b",
   "metadata": {},
   "outputs": [
    {
     "name": "stdout",
     "output_type": "stream",
     "text": [
      "start: Job is already running: unity7\r\n"
     ]
    }
   ],
   "source": [
    "!start"
   ]
  },
  {
   "cell_type": "code",
   "execution_count": 1,
   "id": "aaefeaec",
   "metadata": {},
   "outputs": [],
   "source": [
    "# !pip install jupyter_contrib_nbextensions"
   ]
  },
  {
   "cell_type": "code",
   "execution_count": 2,
   "id": "16e82628",
   "metadata": {},
   "outputs": [],
   "source": [
    "# !jupyter contrib nbextension install --user"
   ]
  },
  {
   "cell_type": "code",
   "execution_count": null,
   "id": "1049142e",
   "metadata": {},
   "outputs": [],
   "source": []
  },
  {
   "cell_type": "markdown",
   "id": "f6599417",
   "metadata": {},
   "source": [
    "## histogram"
   ]
  },
  {
   "cell_type": "code",
   "execution_count": 2,
   "id": "994105bf",
   "metadata": {},
   "outputs": [],
   "source": [
    "from collections import Counter\n",
    "import matplotlib.pyplot as plt"
   ]
  },
  {
   "cell_type": "code",
   "execution_count": 3,
   "id": "929c5b10",
   "metadata": {},
   "outputs": [],
   "source": [
    "grades=[83, 95, 91, 87, 70, 0, 85, 82, 100, 67, 73, 77, 0]\n",
    "histogram=Counter(min(x//10*10,90) for x in grades)"
   ]
  },
  {
   "cell_type": "code",
   "execution_count": 8,
   "id": "953c863e",
   "metadata": {},
   "outputs": [
    {
     "data": {
      "text/plain": [
       "Counter({80: 4, 90: 3, 70: 3, 0: 2, 60: 1})"
      ]
     },
     "execution_count": 8,
     "metadata": {},
     "output_type": "execute_result"
    }
   ],
   "source": [
    "histogram"
   ]
  },
  {
   "cell_type": "code",
   "execution_count": 10,
   "id": "d8114ba3",
   "metadata": {},
   "outputs": [
    {
     "data": {
      "text/plain": [
       "dict_keys([80, 90, 70, 0, 60])"
      ]
     },
     "execution_count": 10,
     "metadata": {},
     "output_type": "execute_result"
    }
   ],
   "source": [
    "histogram.keys()"
   ]
  },
  {
   "cell_type": "code",
   "execution_count": 16,
   "id": "ce3ca47d",
   "metadata": {},
   "outputs": [
    {
     "data": {
      "image/png": "[encoded data removed]",
      "text/plain": [
       "<Figure size 432x288 with 1 Axes>"
      ]
     },
     "metadata": {
      "needs_background": "light"
     },
     "output_type": "display_data"
    }
   ],
   "source": [
    "plt.bar([x+5 for x in histogram.keys()],\n",
    "        histogram.values(),\n",
    "        10,\n",
    "        edgecolor=(0,0,0)\n",
    "       )\n",
    "plt.axis([-5, 105, 0, 5])\n",
    "plt.xticks([10 * i for i in range(11)])\n",
    "# plt.yticks([1.5 * i for i in range(6)])\n",
    "plt.xlabel(\"Decile\")\n",
    "plt.ylabel(\"# of Students\")\n",
    "plt.title(\"Distribution of Exam 1 Grades\")\n",
    "plt.show()"
   ]
  },
  {
   "cell_type": "code",
   "execution_count": 26,
   "id": "cca28e57",
   "metadata": {},
   "outputs": [
    {
     "data": {
      "image/png": "[encoded data removed]",
      "text/plain": [
       "<Figure size 432x288 with 1 Axes>"
      ]
     },
     "metadata": {
      "needs_background": "light"
     },
     "output_type": "display_data"
    }
   ],
   "source": [
    "plt.bar(histogram.keys(),\n",
    "        histogram.values(),\n",
    "        10,\n",
    "        edgecolor=(0,0,0)\n",
    "       )\n",
    "plt.axis([-5, 105, 0, 5])\n",
    "plt.xticks([10 * i for i in range(11)])\n",
    "# plt.yticks([1.5 * i for i in range(6)])\n",
    "plt.xlabel(\"Decile\")\n",
    "plt.ylabel(\"# of Students\")\n",
    "plt.title(\"Distribution of Exam 1 Grades\")\n",
    "plt.show()"
   ]
  },
  {
   "cell_type": "markdown",
   "id": "0a61630a",
   "metadata": {},
   "source": [
    "## assignment 1, q14"
   ]
  },
  {
   "cell_type": "markdown",
   "id": "c652e29e",
   "metadata": {},
   "source": [
    "### Q10"
   ]
  },
  {
   "cell_type": "markdown",
   "id": "28e68119",
   "metadata": {},
   "source": [
    "14. Plot the scatter plot for following data with unequal axis and then equal axis. Also state the difference\n",
    "in two.\n",
    "test 1 grades = [ 99, 90, 85, 97, 80]\n",
    "test 2 grades = [100, 85, 60, 90, 70]"
   ]
  },
  {
   "cell_type": "code",
   "execution_count": 2,
   "id": "9ca0e13d",
   "metadata": {},
   "outputs": [
    {
     "data": {
      "image/png": "[encoded data removed]",
      "text/plain": [
       "<Figure size 432x288 with 1 Axes>"
      ]
     },
     "metadata": {
      "needs_background": "light"
     },
     "output_type": "display_data"
    }
   ],
   "source": [
    "test_1_grades = [ 99, 90, 85, 97, 80]\n",
    "test_2_grades = [100, 85, 60, 90, 70]\n",
    "plt.scatter(test_1_grades,test_2_grades)\n",
    "plt.axis([70, 105, 50, 105])\n",
    "plt.show()"
   ]
  },
  {
   "cell_type": "code",
   "execution_count": 3,
   "id": "779b7631",
   "metadata": {},
   "outputs": [
    {
     "data": {
      "image/png": "[encoded data removed]",
      "text/plain": [
       "<Figure size 432x288 with 1 Axes>"
      ]
     },
     "metadata": {
      "needs_background": "light"
     },
     "output_type": "display_data"
    }
   ],
   "source": [
    "test_1_grades = [ 99, 90, 85, 97, 80]\n",
    "test_2_grades = [100, 85, 60, 90, 70]\n",
    "plt.scatter(test_1_grades,test_2_grades)\n",
    "plt.axis([50, 105, 50, 105]) #[x-min,x-max, y-min,y-max]\n",
    "plt.show()"
   ]
  },
  {
   "cell_type": "code",
   "execution_count": null,
   "id": "f56746d7",
   "metadata": {},
   "outputs": [],
   "source": []
  },
  {
   "cell_type": "markdown",
   "id": "63021996",
   "metadata": {},
   "source": [
    "### Q10"
   ]
  },
  {
   "cell_type": "markdown",
   "id": "41a330e9",
   "metadata": {},
   "source": [
    "10. Plot histogram for age of male and female in different plots for the following data of male and female\n",
    "age."
   ]
  },
  {
   "cell_type": "code",
   "execution_count": 39,
   "id": "a80427b8",
   "metadata": {},
   "outputs": [],
   "source": [
    "male_age = [53,51,71,31,33,39,52,27,54,30,64,26,21,54,52,20,59,32]\n",
    "female_age = [53,65,68,21,75,46,24,63,61,24,49,41,39,40,25,54,42,32,48,23,23]"
   ]
  },
  {
   "cell_type": "code",
   "execution_count": 60,
   "id": "40a810b3",
   "metadata": {},
   "outputs": [],
   "source": [
    "histogram1=Counter(x//5*5 for x in male_age)"
   ]
  },
  {
   "cell_type": "code",
   "execution_count": 67,
   "id": "f3c12883",
   "metadata": {},
   "outputs": [
    {
     "data": {
      "text/plain": [
       "Counter({50: 6, 70: 1, 30: 4, 35: 1, 25: 2, 60: 1, 20: 2, 55: 1})"
      ]
     },
     "execution_count": 67,
     "metadata": {},
     "output_type": "execute_result"
    }
   ],
   "source": [
    "histogram1"
   ]
  },
  {
   "cell_type": "code",
   "execution_count": 62,
   "id": "fd6eb674",
   "metadata": {},
   "outputs": [
    {
     "data": {
      "image/png": "[encoded data removed]",
      "text/plain": [
       "<Figure size 432x288 with 1 Axes>"
      ]
     },
     "metadata": {
      "needs_background": "light"
     },
     "output_type": "display_data"
    }
   ],
   "source": [
    "plt.bar(\n",
    "    histogram1.keys(),\n",
    "    histogram1.values(),\n",
    "    width=5,\n",
    "    edgecolor=(0,0,0)\n",
    ")\n",
    "plt.xticks([x*5 for x in range(3,16)])\n",
    "plt.title(\"Histogram for age of male\")\n",
    "plt.ylabel(\"number of male\")\n",
    "plt.xlabel(\"age of male\")\n",
    "plt.show()"
   ]
  },
  {
   "cell_type": "code",
   "execution_count": null,
   "id": "e26d88e7",
   "metadata": {},
   "outputs": [],
   "source": []
  },
  {
   "cell_type": "code",
   "execution_count": null,
   "id": "e1e00727",
   "metadata": {},
   "outputs": [],
   "source": []
  },
  {
   "cell_type": "code",
   "execution_count": 68,
   "id": "6e4fc460",
   "metadata": {},
   "outputs": [],
   "source": [
    "female_age = [53,65,68,21,75,46,24,63,61,24,49,41,39,40,25,54,42,32,48,23,23]"
   ]
  },
  {
   "cell_type": "code",
   "execution_count": 69,
   "id": "46cb2e61",
   "metadata": {},
   "outputs": [],
   "source": [
    "histogram2=Counter(x//5*5 for x in female_age)"
   ]
  },
  {
   "cell_type": "code",
   "execution_count": 70,
   "id": "33d1e9f8",
   "metadata": {},
   "outputs": [
    {
     "data": {
      "image/png": "[encoded data removed]",
      "text/plain": [
       "<Figure size 432x288 with 1 Axes>"
      ]
     },
     "metadata": {
      "needs_background": "light"
     },
     "output_type": "display_data"
    }
   ],
   "source": [
    "plt.bar(\n",
    "    histogram2.keys(),\n",
    "    histogram2.values(),\n",
    "    width=5,\n",
    "    edgecolor=(0,0,0)\n",
    ")\n",
    "plt.xticks([x*5 for x in range(3,16)])\n",
    "plt.title(\"Histogram for age of female\")\n",
    "plt.ylabel(\"number of female\")\n",
    "plt.xlabel(\"age of female\")\n",
    "plt.show()"
   ]
  },
  {
   "cell_type": "code",
   "execution_count": null,
   "id": "e19ad6b1",
   "metadata": {},
   "outputs": [],
   "source": []
  },
  {
   "cell_type": "markdown",
   "id": "395629f8",
   "metadata": {},
   "source": [
    "13. Plot a bar chart with axis labels for given data:\n",
    "mentions = [500, 505]\n",
    "years = [2017, 2018]\n",
    "Do not give any extra condition for x-axis as well as y-axis. Now again plot the bar chart for this data\n",
    "and start y-axis from 0.\n",
    "State the difference in both the bar chart."
   ]
  },
  {
   "cell_type": "code",
   "execution_count": 6,
   "id": "2095726d",
   "metadata": {},
   "outputs": [
    {
     "data": {
      "image/png": "[encoded data removed]",
      "text/plain": [
       "<Figure size 432x288 with 1 Axes>"
      ]
     },
     "metadata": {
      "needs_background": "light"
     },
     "output_type": "display_data"
    }
   ],
   "source": [
    "mentions = [500, 505]\n",
    "years = [2017, 2018]\n",
    "plt.bar(mentions,years)\n",
    "plt.xlabel(\"mentions\")\n",
    "plt.ylabel(\"years\")\n",
    "plt.title(\"Barplot: mentions vs years\")\n",
    "plt.show()"
   ]
  },
  {
   "cell_type": "code",
   "execution_count": 11,
   "id": "ca3289d8",
   "metadata": {},
   "outputs": [
    {
     "data": {
      "image/png": "[encoded data removed]",
      "text/plain": [
       "<Figure size 432x288 with 1 Axes>"
      ]
     },
     "metadata": {
      "needs_background": "light"
     },
     "output_type": "display_data"
    }
   ],
   "source": [
    "mentions = [500, 505]\n",
    "years = [2017, 2018]\n",
    "plt.bar(mentions,years)\n",
    "plt.xlabel(\"mentions\")\n",
    "plt.ylabel(\"years\")\n",
    "plt.title(\"Barplot: mentions vs years\")\n",
    "plt.show()"
   ]
  },
  {
   "cell_type": "code",
   "execution_count": null,
   "id": "4ed1a5b1",
   "metadata": {},
   "outputs": [],
   "source": []
  },
  {
   "cell_type": "code",
   "execution_count": null,
   "id": "a4a8e57f",
   "metadata": {},
   "outputs": [],
   "source": []
  },
  {
   "cell_type": "markdown",
   "id": "ec3dd993",
   "metadata": {},
   "source": [
    "## Vector"
   ]
  },
  {
   "cell_type": "code",
   "execution_count": 80,
   "id": "9a383b4f",
   "metadata": {},
   "outputs": [],
   "source": [
    "from typing import List\n",
    "a=List[int]\n",
    "b=List[int]"
   ]
  },
  {
   "cell_type": "code",
   "execution_count": 79,
   "id": "59bdd038",
   "metadata": {},
   "outputs": [
    {
     "data": {
      "text/plain": [
       "typing._GenericAlias"
      ]
     },
     "execution_count": 79,
     "metadata": {},
     "output_type": "execute_result"
    }
   ],
   "source": [
    "type(a)"
   ]
  },
  {
   "cell_type": "code",
   "execution_count": 81,
   "id": "48a0ca7f",
   "metadata": {},
   "outputs": [],
   "source": [
    "a=[1,2,3]\n",
    "b=[4,5,6]"
   ]
  },
  {
   "cell_type": "code",
   "execution_count": 82,
   "id": "24770886",
   "metadata": {},
   "outputs": [
    {
     "data": {
      "text/plain": [
       "[1, 2, 3, 4, 5, 6]"
      ]
     },
     "execution_count": 82,
     "metadata": {},
     "output_type": "execute_result"
    }
   ],
   "source": [
    "a+b"
   ]
  },
  {
   "cell_type": "code",
   "execution_count": null,
   "id": "b7cbfce1",
   "metadata": {},
   "outputs": [],
   "source": []
  }
 ],
 "metadata": {
  "interpreter": {
   "hash": "649e9a488baa9f755be1bd774174f13c00c6eb61d6f5988e2904ab6e22ac3fc0"
  },
  "kernelspec": {
   "display_name": "Python 3.9.7 ('base')",
   "language": "python",
   "name": "python3"
  },
  "language_info": {
   "codemirror_mode": {
    "name": "ipython",
    "version": 3
   },
   "file_extension": ".py",
   "mimetype": "text/x-python",
   "name": "python",
   "nbconvert_exporter": "python",
   "pygments_lexer": "ipython3",
   "version": "3.9.7"
  }
 },
 "nbformat": 4,
 "nbformat_minor": 5
}
