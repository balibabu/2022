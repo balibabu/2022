{
 "cells": [
  {
   "cell_type": "code",
   "execution_count": 15,
   "id": "e316628f",
   "metadata": {},
   "outputs": [],
   "source": [
    "from typing import Counter"
   ]
  },
  {
   "cell_type": "code",
   "execution_count": 12,
   "id": "e20d66f3",
   "metadata": {},
   "outputs": [],
   "source": [
    "def getMean(array: list)->float:\n",
    "    return sum(array)/len(array)"
   ]
  },
  {
   "cell_type": "code",
   "execution_count": null,
   "id": "2b9de884",
   "metadata": {},
   "outputs": [],
   "source": [
    "def getMod(array):\n",
    "    aa=Counter(array)\n",
    "    "
   ]
  },
  {
   "cell_type": "code",
   "execution_count": 13,
   "id": "5eaf3e82",
   "metadata": {},
   "outputs": [],
   "source": [
    "def getDispersion(array:list)->int:\n",
    "    return max(array)-min(array)"
   ]
  },
  {
   "cell_type": "code",
   "execution_count": 21,
   "id": "d8be07e7",
   "metadata": {},
   "outputs": [],
   "source": [
    "def getVariance(array:list)->float:\n",
    "    x=getMean(array)\n",
    "    n=len(array)\n",
    "    totalSum=0\n",
    "    for xi in array:\n",
    "        totalSum+=pow(x-xi,2)\n",
    "    return totalSum/(n-1)"
   ]
  },
  {
   "cell_type": "code",
   "execution_count": 15,
   "id": "327df5fb",
   "metadata": {},
   "outputs": [],
   "source": [
    "def getStandardDeviation(array:list)->float:\n",
    "    return pow(getVariance(array),0.5)"
   ]
  },
  {
   "cell_type": "code",
   "execution_count": 16,
   "id": "b4c863e1",
   "metadata": {},
   "outputs": [],
   "source": [
    "def getCovariance(array1:list,array2:list)->float:\n",
    "    assert len(array1)==len(array2)\n",
    "    x=getMean(array1)\n",
    "    y=getMean(array2)\n",
    "    n=len(array1)\n",
    "    totalSum=0\n",
    "    for xi,yi in zip(array1,array2):\n",
    "        totalSum+=(x-xi)*(y-yi)\n",
    "    return totalSum/(n-1)"
   ]
  },
  {
   "cell_type": "code",
   "execution_count": 17,
   "id": "bc94a7a0",
   "metadata": {},
   "outputs": [],
   "source": [
    "def getCorelation(array1:list,array2:list)->float:\n",
    "    cor=getCovariance(array1,array2)/(getStandardDeviation(array1)*getStandardDeviation(array2))\n",
    "    return cor"
   ]
  },
  {
   "cell_type": "code",
   "execution_count": 9,
   "id": "631aa42f",
   "metadata": {},
   "outputs": [],
   "source": [
    "def getQuantile(array:list,percentile:int):\n",
    "    assert percentile<100\n",
    "    array.sort()\n",
    "    n=int(percentile*len(array)/100)\n",
    "    return array[n]"
   ]
  },
  {
   "cell_type": "code",
   "execution_count": 10,
   "id": "3112c3a6",
   "metadata": {},
   "outputs": [],
   "source": [
    "def getInterQuantileRange(array):\n",
    "    return getQuantile(array,75)-getQuantile(array,25)"
   ]
  },
  {
   "cell_type": "code",
   "execution_count": 14,
   "id": "97f75f28",
   "metadata": {},
   "outputs": [
    {
     "name": "stdout",
     "output_type": "stream",
     "text": [
      "[0, 25, 50, 75, 100]\n"
     ]
    },
    {
     "data": {
      "text/plain": [
       "100"
      ]
     },
     "execution_count": 14,
     "metadata": {},
     "output_type": "execute_result"
    }
   ],
   "source": [
    "a=[0,25,50,75,100]\n",
    "print(a)\n",
    "getQuantile(a,90)"
   ]
  },
  {
   "cell_type": "code",
   "execution_count": 17,
   "id": "f8162b82",
   "metadata": {},
   "outputs": [
    {
     "data": {
      "text/plain": [
       "Counter({1: 2, 2: 1, 3: 1, 5: 1})"
      ]
     },
     "execution_count": 17,
     "metadata": {},
     "output_type": "execute_result"
    }
   ],
   "source": [
    "a=[1,1,2,3,5]\n",
    "b=Counter(a)"
   ]
  },
  {
   "cell_type": "code",
   "execution_count": null,
   "id": "fe2b583a",
   "metadata": {},
   "outputs": [],
   "source": []
  },
  {
   "cell_type": "code",
   "execution_count": null,
   "id": "10bc7f33",
   "metadata": {},
   "outputs": [],
   "source": []
  },
  {
   "cell_type": "markdown",
   "id": "f5977135",
   "metadata": {},
   "source": [
    "## Testing"
   ]
  },
  {
   "cell_type": "code",
   "execution_count": 4,
   "id": "0b6bc041",
   "metadata": {},
   "outputs": [],
   "source": [
    "import statistics as st"
   ]
  },
  {
   "cell_type": "code",
   "execution_count": 30,
   "id": "7376cb66",
   "metadata": {},
   "outputs": [],
   "source": [
    "array=[3,2,1,5,4]\n",
    "array2=[8,4,6,1,5]\n"
   ]
  },
  {
   "cell_type": "code",
   "execution_count": 25,
   "id": "5dd8e3b4",
   "metadata": {},
   "outputs": [
    {
     "name": "stdout",
     "output_type": "stream",
     "text": [
      "3\n"
     ]
    },
    {
     "data": {
      "text/plain": [
       "3.0"
      ]
     },
     "execution_count": 25,
     "metadata": {},
     "output_type": "execute_result"
    }
   ],
   "source": [
    "print(st.mean(array))\n",
    "getMean(array)"
   ]
  },
  {
   "cell_type": "code",
   "execution_count": 26,
   "id": "298a4057",
   "metadata": {},
   "outputs": [
    {
     "name": "stdout",
     "output_type": "stream",
     "text": [
      "2.5\n"
     ]
    },
    {
     "data": {
      "text/plain": [
       "2.5"
      ]
     },
     "execution_count": 26,
     "metadata": {},
     "output_type": "execute_result"
    }
   ],
   "source": [
    "print(st.variance(array))\n",
    "getVariance(array)"
   ]
  },
  {
   "cell_type": "code",
   "execution_count": 31,
   "id": "262e89ff",
   "metadata": {},
   "outputs": [
    {
     "data": {
      "text/plain": [
       "4"
      ]
     },
     "execution_count": 31,
     "metadata": {},
     "output_type": "execute_result"
    }
   ],
   "source": [
    "getDispersion(array)"
   ]
  },
  {
   "cell_type": "code",
   "execution_count": 30,
   "id": "59cd30ec",
   "metadata": {},
   "outputs": [
    {
     "name": "stdout",
     "output_type": "stream",
     "text": [
      "1.5811388300841898\n"
     ]
    },
    {
     "data": {
      "text/plain": [
       "1.5811388300841898"
      ]
     },
     "execution_count": 30,
     "metadata": {},
     "output_type": "execute_result"
    }
   ],
   "source": [
    "print(st.stdev(array))\n",
    "getStandardDeviation(array)"
   ]
  },
  {
   "cell_type": "code",
   "execution_count": 18,
   "id": "fba889a1",
   "metadata": {},
   "outputs": [
    {
     "data": {
      "text/plain": [
       "-2.25"
      ]
     },
     "execution_count": 18,
     "metadata": {},
     "output_type": "execute_result"
    }
   ],
   "source": [
    "getCovariance(array,array2)"
   ]
  },
  {
   "cell_type": "code",
   "execution_count": 42,
   "id": "54c8935f",
   "metadata": {},
   "outputs": [
    {
     "name": "stdout",
     "output_type": "stream",
     "text": [
      "[0, 25, 50, 75, 100]\n"
     ]
    },
    {
     "data": {
      "text/plain": [
       "100.0"
      ]
     },
     "execution_count": 42,
     "metadata": {},
     "output_type": "execute_result"
    }
   ],
   "source": [
    "# print(st.quantiles(array,2))\n",
    "a=[0,25,50,75,100]\n",
    "print(a)\n",
    "getQuantile(a,0)"
   ]
  },
  {
   "cell_type": "code",
   "execution_count": 5,
   "id": "7627ec90",
   "metadata": {},
   "outputs": [
    {
     "data": {
      "text/plain": [
       "['Counter',\n",
       " 'Decimal',\n",
       " 'Fraction',\n",
       " 'NormalDist',\n",
       " 'StatisticsError',\n",
       " '__all__',\n",
       " '__builtins__',\n",
       " '__cached__',\n",
       " '__doc__',\n",
       " '__file__',\n",
       " '__loader__',\n",
       " '__name__',\n",
       " '__package__',\n",
       " '__spec__',\n",
       " '_coerce',\n",
       " '_convert',\n",
       " '_exact_ratio',\n",
       " '_fail_neg',\n",
       " '_find_lteq',\n",
       " '_find_rteq',\n",
       " '_isfinite',\n",
       " '_normal_dist_inv_cdf',\n",
       " '_ss',\n",
       " '_sum',\n",
       " 'bisect_left',\n",
       " 'bisect_right',\n",
       " 'erf',\n",
       " 'exp',\n",
       " 'fabs',\n",
       " 'fmean',\n",
       " 'fsum',\n",
       " 'geometric_mean',\n",
       " 'groupby',\n",
       " 'harmonic_mean',\n",
       " 'hypot',\n",
       " 'itemgetter',\n",
       " 'log',\n",
       " 'math',\n",
       " 'mean',\n",
       " 'median',\n",
       " 'median_grouped',\n",
       " 'median_high',\n",
       " 'median_low',\n",
       " 'mode',\n",
       " 'multimode',\n",
       " 'numbers',\n",
       " 'pstdev',\n",
       " 'pvariance',\n",
       " 'quantiles',\n",
       " 'random',\n",
       " 'sqrt',\n",
       " 'stdev',\n",
       " 'tau',\n",
       " 'variance']"
      ]
     },
     "execution_count": 5,
     "metadata": {},
     "output_type": "execute_result"
    }
   ],
   "source": [
    "dir(st)"
   ]
  },
  {
   "cell_type": "code",
   "execution_count": null,
   "id": "7eba714c",
   "metadata": {},
   "outputs": [],
   "source": []
  }
 ],
 "metadata": {
  "interpreter": {
   "hash": "649e9a488baa9f755be1bd774174f13c00c6eb61d6f5988e2904ab6e22ac3fc0"
  },
  "kernelspec": {
   "display_name": "Python 3.9.7 ('base')",
   "language": "python",
   "name": "python3"
  },
  "language_info": {
   "codemirror_mode": {
    "name": "ipython",
    "version": 3
   },
   "file_extension": ".py",
   "mimetype": "text/x-python",
   "name": "python",
   "nbconvert_exporter": "python",
   "pygments_lexer": "ipython3",
   "version": "3.9.7"
  }
 },
 "nbformat": 4,
 "nbformat_minor": 5
}
