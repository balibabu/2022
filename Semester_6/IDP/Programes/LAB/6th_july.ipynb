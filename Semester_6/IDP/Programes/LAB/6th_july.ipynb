{
 "cells": [
  {
   "cell_type": "markdown",
   "id": "c8102d38",
   "metadata": {},
   "source": [
    "outliers -> far from concentrated data"
   ]
  },
  {
   "cell_type": "code",
   "execution_count": null,
   "id": "bf87bbae",
   "metadata": {},
   "outputs": [],
   "source": [
    "def distance(point1,point2):\n",
    "    x1,y1=point1\n",
    "    x2,y2=point2\n",
    "    d=pow(pow(x2-x1,2)+pow(y2-y1,2),0.5)\n",
    "    return d"
   ]
  },
  {
   "cell_type": "code",
   "execution_count": null,
   "id": "401b90ba",
   "metadata": {},
   "outputs": [],
   "source": [
    "A=(63,150) #point(inch,pound)\n",
    "B=(67,160.0) #point(inch,pound)\n",
    "C=(70,171.0) #point(inch,pound)\n",
    "d1=distance(A,B)\n",
    "d2=distance(A,C)\n",
    "d3=distance(B,C)\n",
    "print(f'distance between point {A} and {B} is {d1}.')\n",
    "print(f'distance between point {A} and {C} is {d2}.')\n",
    "print(f'distance between point {C} and {B} is {d3}.')"
   ]
  },
  {
   "cell_type": "code",
   "execution_count": null,
   "id": "41b5f9da",
   "metadata": {},
   "outputs": [],
   "source": [
    "i=2.54\n",
    "A=(63*i,150) #point(cm,pound)\n",
    "B=(67*i,160.0) #point(cm,pound)\n",
    "C=(70*i,171.0) #point(cm,pound)\n",
    "d1=distance(A,B)\n",
    "d2=distance(A,C)\n",
    "d3=distance(B,C)\n",
    "print(f'distance between point {A} and {B} is {d1}.')\n",
    "print(f'distance between point {A} and {C} is {d2}.')\n",
    "print(f'distance between point {C} and {B} is {d3}.')"
   ]
  },
  {
   "cell_type": "code",
   "execution_count": 2,
   "id": "cfba6cf6",
   "metadata": {},
   "outputs": [
    {
     "name": "stderr",
     "output_type": "stream",
     "text": [
      "100%|██████████| 100/100 [00:20<00:00,  4.98it/s]\n"
     ]
    }
   ],
   "source": [
    "import tqdm\n",
    "import time\n",
    "for i in tqdm.tqdm(range(100)):\n",
    "    time.sleep(0.2)"
   ]
  },
  {
   "cell_type": "code",
   "execution_count": 1,
   "id": "2d26aed9",
   "metadata": {},
   "outputs": [
    {
     "name": "stderr",
     "output_type": "stream",
     "text": [
      "100%|██████████| 100/100 [00:09<00:00, 10.67it/s]\n"
     ]
    }
   ],
   "source": [
    "import tqdm\n",
    "import random\n",
    "for i in tqdm.tqdm(range(100)):\n",
    "    _=[random.random() for _ in range(1000000)]"
   ]
  },
  {
   "cell_type": "code",
   "execution_count": 5,
   "id": "13b9fd07",
   "metadata": {},
   "outputs": [],
   "source": [
    "# dir (tqdm)"
   ]
  },
  {
   "cell_type": "markdown",
   "id": "70fd3320",
   "metadata": {},
   "source": [
    "##### prime number logic\n",
    "-> to check n is prime or not , divide it by all primes lesser than n"
   ]
  },
  {
   "cell_type": "markdown",
   "id": "262eeab0",
   "metadata": {},
   "source": [
    "##### for exams\n",
    "what is machine learning , with exzmples\n",
    "types of ML\n",
    "confusion matrix\n",
    "overfitting\n",
    "underfitting\n"
   ]
  },
  {
   "cell_type": "code",
   "execution_count": null,
   "id": "d2112993",
   "metadata": {},
   "outputs": [],
   "source": []
  }
 ],
 "metadata": {
  "kernelspec": {
   "display_name": "Python 3 (ipykernel)",
   "language": "python",
   "name": "python3"
  },
  "language_info": {
   "codemirror_mode": {
    "name": "ipython",
    "version": 3
   },
   "file_extension": ".py",
   "mimetype": "text/x-python",
   "name": "python",
   "nbconvert_exporter": "python",
   "pygments_lexer": "ipython3",
   "version": "3.9.7"
  }
 },
 "nbformat": 4,
 "nbformat_minor": 5
}
