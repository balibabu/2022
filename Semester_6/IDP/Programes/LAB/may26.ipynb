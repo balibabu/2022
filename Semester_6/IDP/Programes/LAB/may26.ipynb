{
 "cells": [
  {
   "cell_type": "markdown",
   "id": "9f8f2f9f",
   "metadata": {},
   "source": [
    "## find out the probability of getting two girl child when 1st is a girl"
   ]
  },
  {
   "cell_type": "code",
   "execution_count": 4,
   "id": "6a6aa0ef",
   "metadata": {},
   "outputs": [],
   "source": [
    "def probability(total,expected):\n",
    "    return expected/total"
   ]
  },
  {
   "cell_type": "code",
   "execution_count": 56,
   "id": "78a46a18",
   "metadata": {},
   "outputs": [],
   "source": [
    "def condProb(p12,p1):\n",
    "    return p12/p1"
   ]
  },
  {
   "cell_type": "code",
   "execution_count": 57,
   "id": "8ada2a7f",
   "metadata": {},
   "outputs": [],
   "source": [
    "s1={'b','g'}\n",
    "e1={'g'}\n",
    "p1=probability(len(s1),len(e1))"
   ]
  },
  {
   "cell_type": "code",
   "execution_count": 58,
   "id": "f6fca83f",
   "metadata": {},
   "outputs": [],
   "source": [
    "s2={'bb','bg','gb','gg'}\n",
    "e2={'gg'}\n",
    "\n",
    "p12=probability(len(s2),len(s2.intersection(e2)))"
   ]
  },
  {
   "cell_type": "code",
   "execution_count": 59,
   "id": "e559cd7a",
   "metadata": {},
   "outputs": [
    {
     "data": {
      "text/plain": [
       "0.5"
      ]
     },
     "execution_count": 59,
     "metadata": {},
     "output_type": "execute_result"
    }
   ],
   "source": [
    "condProb(p12,p1)"
   ]
  },
  {
   "cell_type": "code",
   "execution_count": null,
   "id": "ddf5a6e8",
   "metadata": {},
   "outputs": [],
   "source": []
  },
  {
   "cell_type": "markdown",
   "id": "73c198d3",
   "metadata": {},
   "source": [
    "## two bags  find probability of red\n",
    "### 4r,3b\n",
    "### 4b,3r"
   ]
  },
  {
   "cell_type": "code",
   "execution_count": 37,
   "id": "59a5bf8a",
   "metadata": {},
   "outputs": [
    {
     "name": "stdout",
     "output_type": "stream",
     "text": [
      "0.5714285714285714\n",
      "0.42857142857142855\n",
      "0.5\n"
     ]
    }
   ],
   "source": [
    "def getProbability(list1,expected):\n",
    "    count=0\n",
    "    for i in list1:\n",
    "        if expected==i:\n",
    "            count+=1\n",
    "    return count/len(list1)\n",
    "_probability)\n",
    "\n",
    "bag1=['r','r','r','r','b','b','b']\n",
    "bag2=['b','b','b','b','r','r','r']\n",
    "\n",
    "\n",
    "p_Of_Red_in_Bag1=getProbability(bag1,'r')\n",
    "p_Of_Red_in_Bag2=getProbability(bag2,'r')\n",
    "\n",
    "print(p_Of_Red_in_Bag1)\n",
    "print(p_Of_Red_in_Bag2)\n",
    "\n",
    "total_probability=1/2*p_Of_Red_in_Bag1+1/2*p_Of_Red_in_Bag2\n",
    "print(total_probability)"
   ]
  },
  {
   "cell_type": "code",
   "execution_count": null,
   "id": "8a3090f2",
   "metadata": {},
   "outputs": [],
   "source": []
  },
  {
   "cell_type": "markdown",
   "id": "e26c8bc2",
   "metadata": {},
   "source": [
    "## Determinant of matrix"
   ]
  },
  {
   "cell_type": "code",
   "execution_count": 63,
   "id": "4f73fe85",
   "metadata": {},
   "outputs": [],
   "source": [
    "6*7-4*9def getDeterminant(mat):\n",
    "    [[a,b,c],\n",
    "     [d,e,f],\n",
    "     [g,h,i]]=mat\n",
    "    det=a*(e*i-h*f)-b*(f*g-i*d)+c*(d*h-g*e)\n",
    "    return det"
   ]
  },
  {
   "cell_type": "code",
   "execution_count": 65,
   "id": "764ed8fb",
   "metadata": {},
   "outputs": [
    {
     "name": "stdout",
     "output_type": "stream",
     "text": [
      "-24\n"
     ]
    }
   ],
   "source": [
    "matrix=[[1,2,3],\n",
    "        [4,5,6],\n",
    "        [7,8,9]]\n",
    "print(getDeterminant(matrix))"
   ]
  },
  {
   "cell_type": "code",
   "execution_count": 67,
   "id": "141c48af",
   "metadata": {},
   "outputs": [],
   "source": [
    "[[a,b,c],\n",
    "     [d,e,f],\n",
    "     [g,h,i]]=matrix"
   ]
  },
  {
   "cell_type": "code",
   "execution_count": 69,
   "id": "afa2ed5d",
   "metadata": {},
   "outputs": [
    {
     "name": "stdout",
     "output_type": "stream",
     "text": [
      "1 2 3\n",
      "4 5 6\n"
     ]
    }
   ],
   "source": [
    "print(a,b,c)\n",
    "print(d,e,f)"
   ]
  },
  {
   "cell_type": "code",
   "execution_count": 72,
   "id": "e853da2c",
   "metadata": {},
   "outputs": [
    {
     "data": {
      "text/plain": [
       "-3"
      ]
     },
     "execution_count": 72,
     "metadata": {},
     "output_type": "execute_result"
    }
   ],
   "source": [
    "4*8-5*7"
   ]
  },
  {
   "cell_type": "code",
   "execution_count": null,
   "id": "23b75629",
   "metadata": {},
   "outputs": [],
   "source": []
  },
  {
   "cell_type": "code",
   "execution_count": null,
   "id": "9db7ace0",
   "metadata": {},
   "outputs": [],
   "source": []
  },
  {
   "cell_type": "code",
   "execution_count": null,
   "id": "e82bf7ed",
   "metadata": {},
   "outputs": [],
   "source": []
  },
  {
   "cell_type": "code",
   "execution_count": null,
   "id": "fb6e4edd",
   "metadata": {},
   "outputs": [],
   "source": []
  },
  {
   "cell_type": "code",
   "execution_count": null,
   "id": "da87a2de",
   "metadata": {},
   "outputs": [],
   "source": []
  },
  {
   "cell_type": "code",
   "execution_count": 6,
   "id": "c4aedf87",
   "metadata": {},
   "outputs": [
    {
     "data": {
      "text/plain": [
       "0.5"
      ]
     },
     "execution_count": 6,
     "metadata": {},
     "output_type": "execute_result"
    }
   ],
   "source": [
    "p_1stG=probability(2,1) # probability of 1st girl child\n",
    "p_2=probability(4,1) # probability of 2nd girl child \n",
    "condProb(p_1stG,p_2)"
   ]
  }
 ],
 "metadata": {
  "kernelspec": {
   "display_name": "Python 3 (ipykernel)",
   "language": "python",
   "name": "python3"
  },
  "language_info": {
   "codemirror_mode": {
    "name": "ipython",
    "version": 3
   },
   "file_extension": ".py",
   "mimetype": "text/x-python",
   "name": "python",
   "nbconvert_exporter": "python",
   "pygments_lexer": "ipython3",
   "version": "3.9.7"
  }
 },
 "nbformat": 4,
 "nbformat_minor": 5
}
