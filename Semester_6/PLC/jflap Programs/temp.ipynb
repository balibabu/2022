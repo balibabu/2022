{
 "cells": [
  {
   "cell_type": "code",
   "execution_count": 44,
   "metadata": {},
   "outputs": [],
   "source": [
    "def getHeader():\n",
    "    return '<?xml version=\"1.0\" encoding=\"UTF-8\" standalone=\"no\"?><!--Created with JFLAP 7.1.--><structure>&#13;\\n\t<type>fa</type>&#13;\\n\t<automaton>&#13;\\n'\n",
    "\n",
    "def getFooter():\n",
    "    return '\\n\t</automaton>&#13;\\n</structure>'    "
   ]
  },
  {
   "cell_type": "code",
   "execution_count": 50,
   "metadata": {},
   "outputs": [],
   "source": [
    "def getState():\n",
    "    id=int(input('enter an id eg:0,1,..'))\n",
    "    stateName=input('enter state name eg: q0,q1,..')\n",
    "    isInitial=int(input('is it initial state: 0 or 1'))\n",
    "    isFinal=int(input('is it final state: 0 or 1'))\n",
    "    x=id*100+100\n",
    "    y=150\n",
    "    string=f'\\n<state id=\"{id}\" name=\"{stateName}\">&#13;<x>{x}</x>&#13;<y>{y}</y>&#13;{\"<initial/>&#13;\"*isInitial}{\"<final/>&#13;\"*isFinal}</state>&#13;\\n'\n",
    "    return string"
   ]
  },
  {
   "cell_type": "code",
   "execution_count": 48,
   "metadata": {},
   "outputs": [],
   "source": [
    "def getTransition():\n",
    "    _from=input('from stateID: ')\n",
    "    _to=input('to stateID: ')\n",
    "    values=input('enter transactions with spaces: ').split(' ')\n",
    "    query='\\n'\n",
    "    for i in values:\n",
    "        query+=f'<transition>&#13;<from>{_from}</from>&#13;<to>{_to}</to>&#13;<read>{i}</read>&#13;</transition>&#13;\\n'\n",
    "\n",
    "    return query"
   ]
  },
  {
   "cell_type": "code",
   "execution_count": 42,
   "metadata": {},
   "outputs": [],
   "source": [
    "def addToFile(file,string):\n",
    "    file.write(string)"
   ]
  },
  {
   "cell_type": "code",
   "execution_count": 51,
   "metadata": {},
   "outputs": [
    {
     "name": "stdout",
     "output_type": "stream",
     "text": [
      "Menu\n",
      "1. Add state\n",
      "2. Add transaction\n",
      "3. Done\n",
      "\n",
      "\n",
      "Enter your choice \n",
      "Enter your choice \n",
      "Enter your choice \n",
      "done\n"
     ]
    }
   ],
   "source": [
    "f1=open('temp.jff',\"w\")\n",
    "f1.write(getHeader())\n",
    "print('Menu\\n1. Add state\\n2. Add transaction\\n3. Done\\n\\n')\n",
    "while(1):\n",
    "    print('Enter your choice ')\n",
    "    choice=int(input())\n",
    "    if(choice==1):\n",
    "        f1.write(getState())\n",
    "    elif(choice==2):\n",
    "        f1.write(getTransition())\n",
    "    elif(choice==3):\n",
    "        break\n",
    "    else:\n",
    "        print('invalid option')\n",
    "\n",
    "f1.write(getFooter())\n",
    "f1.close()\n",
    "print('done')"
   ]
  },
  {
   "cell_type": "code",
   "execution_count": 41,
   "metadata": {},
   "outputs": [
    {
     "name": "stdout",
     "output_type": "stream",
     "text": [
      "done\n"
     ]
    }
   ],
   "source": [
    "f1=open('temp.jff',\"w\")\n",
    "content=str(getHeader()+getState(0,'q0',True,False)+getState(1,'q1',False,True)+getTransition()+getFooter())\n",
    "f1.write(content)\n",
    "f1.close()\n",
    "print('done')"
   ]
  },
  {
   "cell_type": "code",
   "execution_count": 52,
   "metadata": {},
   "outputs": [
    {
     "name": "stdout",
     "output_type": "stream",
     "text": [
      "yes\n"
     ]
    },
    {
     "name": "stderr",
     "output_type": "stream",
     "text": [
      "<>:1: SyntaxWarning: \"is\" with a literal. Did you mean \"==\"?\n",
      "<>:1: SyntaxWarning: \"is\" with a literal. Did you mean \"==\"?\n",
      "C:\\Users\\19410\\AppData\\Local\\Temp/ipykernel_13020/2551816020.py:1: SyntaxWarning: \"is\" with a literal. Did you mean \"==\"?\n",
      "  if 1 is 1:\n"
     ]
    }
   ],
   "source": [
    "if 1 is 1:\n",
    "    print('yes')"
   ]
  },
  {
   "cell_type": "code",
   "execution_count": 1,
   "metadata": {},
   "outputs": [
    {
     "data": {
      "text/plain": [
       "'1 2'"
      ]
     },
     "execution_count": 1,
     "metadata": {},
     "output_type": "execute_result"
    }
   ],
   "source": [
    "'{} {}'.format(1,2)"
   ]
  },
  {
   "cell_type": "code",
   "execution_count": 2,
   "metadata": {},
   "outputs": [
    {
     "data": {
      "text/plain": [
       "'1  2'"
      ]
     },
     "execution_count": 2,
     "metadata": {},
     "output_type": "execute_result"
    }
   ],
   "source": [
    "f'{1}  {2}'"
   ]
  },
  {
   "cell_type": "code",
   "execution_count": null,
   "metadata": {},
   "outputs": [],
   "source": []
  }
 ],
 "metadata": {
  "interpreter": {
   "hash": "729e4875927a45cd4b0f1bebf86ee4beee5ea77652997e46e0b841730c785033"
  },
  "kernelspec": {
   "display_name": "Python 3.9.7 ('base')",
   "language": "python",
   "name": "python3"
  },
  "language_info": {
   "codemirror_mode": {
    "name": "ipython",
    "version": 3
   },
   "file_extension": ".py",
   "mimetype": "text/x-python",
   "name": "python",
   "nbconvert_exporter": "python",
   "pygments_lexer": "ipython3",
   "version": "3.9.7"
  },
  "orig_nbformat": 4
 },
 "nbformat": 4,
 "nbformat_minor": 2
}
